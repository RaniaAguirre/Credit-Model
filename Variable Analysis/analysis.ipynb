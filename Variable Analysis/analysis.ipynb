{
 "cells": [
  {
   "metadata": {},
   "cell_type": "markdown",
   "source": [
    "# Variable Analysis\n",
    "\n",
    "In this Jupyter notebook, we present several visualizations to analyze which predictor variables we will use for our traditional credit score model. These analyses help us identify the most relevant features to accurately assess creditworthiness and build a reliable scoring system."
   ],
   "id": "ba2e457b5f1bca70"
  },
  {
   "metadata": {},
   "cell_type": "markdown",
   "source": "### Import libraries",
   "id": "cf93258af537781"
  },
  {
   "metadata": {},
   "cell_type": "code",
   "outputs": [],
   "execution_count": null,
   "source": [
    "import pandas as pd\n",
    "import seaborn as sns\n",
    "import matplotlib.pyplot as plt"
   ],
   "id": "93e7ce33ab4e20c"
  },
  {
   "metadata": {},
   "cell_type": "markdown",
   "source": [
    "### Heatmap\n",
    "\n",
    "In this section, we will visualize the correlation matrix of numerical predictor variables using a heatmap. The heatmap shows the strength of the linear relationship between each pair of variables, with colors indicating the correlation coefficients.\n",
    "\n",
    "This will help us identify multicollinearity among predictors and guide the selection of relevant features for the model. The heatmap provides a quick way to assess which variables are highly correlated and may require further investigation or adjustments.\n"
   ],
   "id": "53bc6c149fd9acd2"
  },
  {
   "metadata": {},
   "cell_type": "code",
   "outputs": [],
   "execution_count": null,
   "source": [
    "# Load the dataset\n",
    "df = pd.read_csv('train_cleaned.csv')\n",
    "\n",
    "# Drop 'Credit_Score' and 'Score_Category' columns\n",
    "df_cleaned = df.drop(columns=['Credit_Score', 'Score_Category'])\n",
    "\n",
    "# Calculate the correlation matrix\n",
    "corr_matrix = df_cleaned.corr()\n",
    "\n",
    "# Create the heatmap\n",
    "plt.figure(figsize=(10, 8))\n",
    "sns.heatmap(corr_matrix, annot=True, cmap='coolwarm', fmt='.2f', cbar=True, square=True)\n",
    "\n",
    "# Set the title\n",
    "plt.title('Correlation Heatmap (Excluding Credit_Score and Score_Category)')\n",
    "plt.show()"
   ],
   "id": "initial_id"
  },
  {
   "metadata": {},
   "cell_type": "markdown",
   "source": [
    "### Pairplot\n",
    "\n",
    "In this section, we will generate a pair plot to visualize the relationships between numerical predictor variables. The pair plot shows pairwise relationships in the dataset by plotting scatter plots for each pair of variables, along with the distribution of each variable on the diagonal.\n",
    "\n",
    "This helps us understand potential correlations and patterns between different predictors and how they relate to each other, which is important for building our model.\n"
   ],
   "id": "1fe4bd1c2f40c5b5"
  },
  {
   "metadata": {},
   "cell_type": "code",
   "outputs": [],
   "execution_count": null,
   "source": [
    "# Create the pair plot\n",
    "sns.pairplot(df_cleaned, corner=True)\n",
    "\n",
    "# Display the plot\n",
    "plt.show()"
   ],
   "id": "f758bbc7d0c6ab8b"
  },
  {
   "metadata": {},
   "cell_type": "markdown",
   "source": [
    "### Violin Plots\n",
    "\n",
    "In this section, we will create violin plots to visualize the distribution of the `Credit_Score` across different categorical predictor variables. Each violin plot represents the density of the `Credit_Score` values for each category of the predictor variable. The plots will help us understand how `Credit_Score` varies with respect to the different categories.\n",
    "\n",
    "- The y-axis represents the `Credit_Score`.\n",
    "- The x-axis represents the categorical predictor variables.\n",
    "\n",
    "The violins will give insights into the spread and concentration of `Credit_Score` for each category."
   ],
   "id": "8f5850aae73d8db8"
  },
  {
   "metadata": {},
   "cell_type": "code",
   "outputs": [],
   "execution_count": null,
   "source": [
    "# Set the target variable (Credit_Score) on the y-axis\n",
    "target = 'Credit_Score'\n",
    "\n",
    "# Identify predictor variables (all columns except the target)\n",
    "predictors = [col for col in df.columns if col != target]\n",
    "\n",
    "# Filter for categorical predictors (assuming these are stored as type 'object')\n",
    "cat_predictors = [col for col in predictors if df[col].dtype == 'object']\n",
    "print(\"Categorical predictors:\", cat_predictors)\n",
    "\n",
    "# Create a violin plot for each categorical predictor with Credit_Score on the y-axis\n",
    "for col in cat_predictors:\n",
    "    plt.figure(figsize=(8, 5))\n",
    "    sns.violinplot(x=col, y=target, data=df)\n",
    "    plt.title(f'Credit_Score Distribution by {col}')\n",
    "    plt.xlabel(col)\n",
    "    plt.ylabel('Credit_Score')\n",
    "    # Rotate the x-axis labels vertically\n",
    "    plt.xticks(rotation=90)\n",
    "    plt.show()"
   ],
   "id": "14e7c566e46f28b8"
  },
  {
   "metadata": {},
   "cell_type": "markdown",
   "source": "### Histograms",
   "id": "92199b977d31a4c8"
  },
  {
   "metadata": {},
   "cell_type": "markdown",
   "source": [
    "In this section, we will visualize the distribution of numerical predictor variables with respect to the `Credit_Score` categories. For each numerical variable, we will overlay three histograms on the same plot. The histograms represent the distribution of data for each `Credit_Score` category (0, 1, and 2) using different colors: \n",
    "\n",
    "- Red for `Credit_Score = 0`\n",
    "- Blue for `Credit_Score = 1`\n",
    "- Green for `Credit_Score = 2`\n",
    "\n",
    "This will help us understand how each predictor variable behaves across the different `Credit_Score` categories."
   ],
   "id": "5f85ae9c0c1c1a2a"
  },
  {
   "metadata": {},
   "cell_type": "code",
   "outputs": [],
   "execution_count": null,
   "source": [
    "# Set the target variable (Credit_Score) on the y-axis\n",
    "target = 'Credit_Score'\n",
    "\n",
    "# Identify predictor variables (all columns except the target)\n",
    "predictors = [col for col in df.columns if col != target]\n",
    "\n",
    "# Filter numerical predictors only (exclude categorical variables)\n",
    "num_predictors = [col for col in predictors if df[col].dtype != 'object']\n",
    "\n",
    "# Create histograms for each numerical variable with Credit_Score in different colors\n",
    "for col in num_predictors:\n",
    "    plt.figure(figsize=(10, 6))\n",
    "    \n",
    "    # Filter the data based on Credit_Score categories and plot histograms\n",
    "    sns.histplot(df[df[target] == 0][col], color='red', label='Credit_Score = 0', kde=True, bins=30, stat='density')\n",
    "    sns.histplot(df[df[target] == 1][col], color='blue', label='Credit_Score = 1', kde=True, bins=30, stat='density')\n",
    "    sns.histplot(df[df[target] == 2][col], color='green', label='Credit_Score = 2', kde=True, bins=30, stat='density')\n",
    "    \n",
    "    # Title and labels\n",
    "    plt.title(f'Distribution of {col} by Credit_Score')\n",
    "    plt.xlabel(col)\n",
    "    plt.ylabel('Density')\n",
    "    plt.legend(title='Credit_Score')\n",
    "    plt.grid(True)\n",
    "    plt.show()\n"
   ],
   "id": "3b71759f253e8d02"
  }
 ],
 "metadata": {
  "kernelspec": {
   "display_name": "Python 3",
   "language": "python",
   "name": "python3"
  },
  "language_info": {
   "codemirror_mode": {
    "name": "ipython",
    "version": 2
   },
   "file_extension": ".py",
   "mimetype": "text/x-python",
   "name": "python",
   "nbconvert_exporter": "python",
   "pygments_lexer": "ipython2",
   "version": "2.7.6"
  }
 },
 "nbformat": 4,
 "nbformat_minor": 5
}
