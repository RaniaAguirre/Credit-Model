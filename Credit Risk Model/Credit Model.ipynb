{
 "cells": [
  {
   "metadata": {},
   "cell_type": "markdown",
   "source": [
    "# Credit Risk Model\n",
    "\n",
    "This notebook presents the implementation of a credit risk model using three classification algorithms: Logistic Regression, Random Forest, and XGBoost. The model evaluates the accuracy and AUC score for each algorithm, and it also generates confusion matrices and ROC curves to assess the performance of each model."
   ],
   "id": "16eba6204864ec01"
  },
  {
   "metadata": {},
   "cell_type": "markdown",
   "source": "### Import libraries",
   "id": "90a4dbdc5023c313"
  },
  {
   "metadata": {
    "jupyter": {
     "is_executing": true
    }
   },
   "cell_type": "code",
   "source": [
    "import pandas as pd\n",
    "import numpy as np\n",
    "import matplotlib.pyplot as plt\n",
    "import seaborn as sns\n",
    "from sklearn.model_selection import train_test_split\n",
    "from sklearn.preprocessing import StandardScaler\n",
    "from sklearn.linear_model import LogisticRegression\n",
    "from sklearn.ensemble import RandomForestClassifier\n",
    "from sklearn.metrics import accuracy_score, roc_auc_score, confusion_matrix, roc_curve\n",
    "from xgboost import XGBClassifier\n",
    "from sklearn.metrics import roc_curve, auc\n",
    "from sklearn.preprocessing import LabelBinarizer\n",
    "from sklearn.preprocessing import LabelEncoder"
   ],
   "id": "5b8a791bf095ae5b",
   "outputs": [],
   "execution_count": null
  },
  {
   "metadata": {},
   "cell_type": "markdown",
   "source": "### Class for the Credit Risk Model",
   "id": "f76741cd83e01be4"
  },
  {
   "metadata": {},
   "cell_type": "code",
   "outputs": [],
   "execution_count": null,
   "source": [
    "class CreditRiskModel:\n",
    "    def __init__(self, data):\n",
    "        self.data = data\n",
    "        self.predictor_columns = ['Age', 'Annual_Income', 'Num_Bank_Accounts', 'Num_Credit_Card',\n",
    "                                  'Num_of_Loan', 'Outstanding_Debt', 'Monthly_Balance', 'Credit_Utilization_Ratio']\n",
    "        self.response_column = 'Score_Category'\n",
    "        self.model = None\n",
    "        self.scaler = StandardScaler()\n",
    "        self.data_train, self.data_test = train_test_split(self.data, test_size=0.2, random_state=42)\n",
    "\n",
    "        # Initialize LabelEncoder for converting categorical target labels to numerical values\n",
    "        self.label_encoder = LabelEncoder()\n",
    "    \n",
    "    def preprocess_data(self, data):\n",
    "        X = data[self.predictor_columns]\n",
    "        y = data[self.response_column]\n",
    "\n",
    "        # Convert labels to numeric values\n",
    "        y_encoded = self.label_encoder.fit_transform(y)\n",
    "\n",
    "        # Normalize the predictor variables\n",
    "        X_scaled = self.scaler.fit_transform(X)\n",
    "\n",
    "        return X_scaled, y_encoded\n",
    "\n",
    "    def train_classifier(self, model_type: str):\n",
    "        X_train, y_train = self.preprocess_data(self.data_train)\n",
    "        X_test, y_test = self.preprocess_data(self.data_test)\n",
    "\n",
    "        # Train according to the specified model\n",
    "        if model_type == 'logistic':\n",
    "            self.model = LogisticRegression(max_iter=1000, multi_class='ovr')\n",
    "        elif model_type == 'random_forest':\n",
    "            self.model = RandomForestClassifier(n_estimators=100, random_state=42)\n",
    "        elif model_type == 'xgboost':\n",
    "            self.model = XGBClassifier(n_estimators=100, random_state=42)\n",
    "        else:\n",
    "            raise ValueError(\"Model type not supported. Choose 'logistic', 'random_forest' or 'xgboost'.\")\n",
    "\n",
    "        # Fit the model\n",
    "        self.model.fit(X_train, y_train)\n",
    "\n",
    "        # Predictions and probabilities\n",
    "        y_pred = self.model.predict(X_test)\n",
    "        y_prob = self.model.predict_proba(X_test)  # This gives probabilities for each class\n",
    "\n",
    "        # Calculate metrics\n",
    "        validation_accuracy = accuracy_score(y_test, y_pred)\n",
    "\n",
    "        # Calculate the AUC score for each class using one-vs-rest (ovr) strategy\n",
    "        lb = LabelBinarizer()\n",
    "        y_test_bin = lb.fit_transform(y_test)\n",
    "        auc_score = roc_auc_score(y_test_bin, y_prob, multi_class='ovr')\n",
    "\n",
    "        # Confusion matrix\n",
    "        conf_matrix = confusion_matrix(y_test, y_pred)\n",
    "\n",
    "        return validation_accuracy, auc_score, conf_matrix, X_test, y_test\n",
    "\n",
    "    def plot_roc_curve(self, X_test, y_test):\n",
    "        # Plot the AUC-ROC curve for each class\n",
    "        y_prob = self.model.predict_proba(X_test)\n",
    "        \n",
    "        lb = LabelBinarizer()\n",
    "        y_test_bin = lb.fit_transform(y_test)\n",
    "        \n",
    "        # Set up the plot\n",
    "        plt.figure(figsize=(10, 8))\n",
    "        n_classes = y_test_bin.shape[1]\n",
    "        \n",
    "        for i in range(n_classes):\n",
    "            fpr, tpr, _ = roc_curve(y_test_bin[:, i], y_prob[:, i])\n",
    "            roc_auc = auc(fpr, tpr)\n",
    "            plt.plot(fpr, tpr, lw=2, label=f'Class {i} (AUC = {roc_auc:.2f})')\n",
    "        \n",
    "        plt.plot([0, 1], [0, 1], color='navy', lw=2, linestyle='--')\n",
    "        plt.xlabel('False Positive Rate')\n",
    "        plt.ylabel('True Positive Rate')\n",
    "        plt.title('Receiver Operating Characteristic (ROC) Curve')\n",
    "        plt.legend(loc=\"lower right\")\n",
    "        plt.show()\n",
    "\n",
    "    def plot_confusion_matrix(self, conf_matrix):\n",
    "        # Plot the confusion matrix\n",
    "        plt.figure(figsize=(7, 5))\n",
    "        sns.heatmap(conf_matrix, annot=True, fmt='d', cmap='Blues', cbar=False, xticklabels=['Poor', 'Standard', 'Good'], yticklabels=['Poor', 'Standard', 'Good'])\n",
    "        plt.title('Confusion Matrix')\n",
    "        plt.xlabel('Predicted')\n",
    "        plt.ylabel('Actual')\n",
    "        plt.show()\n",
    "\n",
    "    def evaluate_model(self, model_type: str):\n",
    "        validation_accuracy, auc_score, conf_matrix, X_test, y_test = self.train_classifier(model_type=model_type)\n",
    "        print(f\"Model: {model_type}\")\n",
    "        print(f\"Accuracy: {validation_accuracy:.4f}\")\n",
    "        print(f\"AUC Score: {auc_score:.4f}\")\n",
    "        \n",
    "        self.plot_roc_curve(X_test, y_test)\n",
    "        self.plot_confusion_matrix(conf_matrix)\n"
   ],
   "id": "bf0eb902e624dd55"
  },
  {
   "metadata": {},
   "cell_type": "markdown",
   "source": "### Load data and evaluate",
   "id": "601a51425994cce0"
  },
  {
   "metadata": {},
   "cell_type": "code",
   "outputs": [],
   "execution_count": null,
   "source": [
    "# Load the data\n",
    "data = pd.read_csv('train_cleaned.csv')\n",
    "\n",
    "data"
   ],
   "id": "3e2815d7533e076f"
  },
  {
   "metadata": {},
   "cell_type": "code",
   "outputs": [],
   "execution_count": null,
   "source": [
    "# Create an instance of CreditRiskModel\n",
    "model = CreditRiskModel(data)\n",
    "\n",
    "# Evaluate each model\n",
    "model.evaluate_model('logistic')\n",
    "model.evaluate_model('random_forest')\n",
    "model.evaluate_model('xgboost')"
   ],
   "id": "c72bd951e94a05f3"
  }
 ],
 "metadata": {
  "kernelspec": {
   "display_name": "Python 3",
   "language": "python",
   "name": "python3"
  },
  "language_info": {
   "codemirror_mode": {
    "name": "ipython",
    "version": 2
   },
   "file_extension": ".py",
   "mimetype": "text/x-python",
   "name": "python",
   "nbconvert_exporter": "python",
   "pygments_lexer": "ipython2",
   "version": "2.7.6"
  }
 },
 "nbformat": 4,
 "nbformat_minor": 5
}
