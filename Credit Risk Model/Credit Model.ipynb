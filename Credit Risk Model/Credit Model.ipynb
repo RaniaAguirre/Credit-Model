{
 "cells": [
  {
   "metadata": {},
   "cell_type": "markdown",
   "source": [
    "# Credit Risk Model\n",
    "\n",
    "This notebook presents the implementation of a credit risk model using three classification algorithms: Logistic Regression, Random Forest, and XGBoost. The model evaluates the accuracy and AUC score for each algorithm, and it also generates confusion matrices and ROC curves to assess the performance of each model."
   ],
   "id": "16eba6204864ec01"
  },
  {
   "metadata": {},
   "cell_type": "markdown",
   "source": "### Import libraries",
   "id": "90a4dbdc5023c313"
  },
  {
   "metadata": {
    "jupyter": {
     "is_executing": true
    }
   },
   "cell_type": "code",
   "source": [
    "import pandas as pd\n",
    "import numpy as np\n",
    "import matplotlib.pyplot as plt\n",
    "import seaborn as sns\n",
    "from sklearn.model_selection import train_test_split\n",
    "from sklearn.preprocessing import StandardScaler\n",
    "from sklearn.linear_model import LogisticRegression\n",
    "from sklearn.ensemble import RandomForestClassifier\n",
    "from sklearn.metrics import accuracy_score, roc_auc_score, confusion_matrix, roc_curve\n",
    "from xgboost import XGBClassifier"
   ],
   "id": "5b8a791bf095ae5b",
   "outputs": [],
   "execution_count": null
  },
  {
   "metadata": {},
   "cell_type": "markdown",
   "source": "### Class for the Credit Risk Model",
   "id": "f76741cd83e01be4"
  },
  {
   "metadata": {},
   "cell_type": "code",
   "outputs": [],
   "execution_count": null,
   "source": [
    "class CreditRiskModel:\n",
    "    def __init__(self, data_train, data_test):\n",
    "        self.data_train = data_train\n",
    "        self.data_test = data_test\n",
    "        # Define predictor variables\n",
    "        self.predictor_columns = ['Age', 'Annual_Income', 'Num_Bank_Accounts', 'Num_Credit_Card',\n",
    "                                  'Num_of_Loan', 'Outstanding_Debt', 'Monthly_Balance', 'Credit_Utilization_Ratio']\n",
    "        # Response variable\n",
    "        self.response_column = 'Score_Category'\n",
    "        # Initialize the model and scaler\n",
    "        self.model = None\n",
    "        self.scaler = StandardScaler()\n",
    "\n",
    "    def preprocess_data(self, data):\n",
    "        X = data[self.predictor_columns]\n",
    "        y = data[self.response_column]\n",
    "\n",
    "        # Normalize the predictor variables\n",
    "        X_scaled = self.scaler.fit_transform(X)\n",
    "\n",
    "        return X_scaled, y\n",
    "\n",
    "    def train_classifier(self, model_type: str):\n",
    "        # Process data\n",
    "        X_train, y_train = self.preprocess_data(self.data_train)\n",
    "        X_test, y_test = self.preprocess_data(self.data_test)\n",
    "\n",
    "        # Train according to the specified model\n",
    "        if model_type == 'logistic':\n",
    "            self.model = LogisticRegression(max_iter=1000)\n",
    "        elif model_type == 'random_forest':\n",
    "            self.model = RandomForestClassifier(n_estimators=100, random_state=42)\n",
    "        elif model_type == 'xgboost':\n",
    "            self.model = XGBClassifier(n_estimators=100, random_state=42)\n",
    "        else:\n",
    "            raise ValueError(\"Model type not supported. Choose 'logistic', 'random_forest' or 'xgboost'.\")\n",
    "\n",
    "        # Fit the model\n",
    "        self.model.fit(X_train, y_train)\n",
    "\n",
    "        # Predictions and probabilities\n",
    "        y_pred = self.model.predict(X_test)\n",
    "        y_prob = self.model.predict_proba(X_test)[:, 1] \n",
    "\n",
    "        # Calculate metrics\n",
    "        validation_accuracy = accuracy_score(y_test, y_pred)\n",
    "        auc_score = roc_auc_score(y_test, y_prob)\n",
    "\n",
    "        # Confusion matrix\n",
    "        conf_matrix = confusion_matrix(y_test, y_pred)\n",
    "\n",
    "        return validation_accuracy, auc_score, conf_matrix, X_test, y_test\n",
    "\n",
    "    def plot_roc_curve(self, X_test, y_test):\n",
    "        # Plot the AUC-ROC curve\n",
    "        y_prob = self.model.predict_proba(X_test)[:, 1]\n",
    "        fpr, tpr, thresholds = roc_curve(y_test, y_prob)\n",
    "        plt.figure()\n",
    "        plt.plot(fpr, tpr, color='blue', label='ROC curve (area = %0.2f)' % roc_auc_score(y_test, y_prob))\n",
    "        plt.plot([0, 1], [0, 1], color='gray', linestyle='--')\n",
    "        plt.xlabel('False Positive Rate')\n",
    "        plt.ylabel('True Positive Rate')\n",
    "        plt.title('Receiver Operating Characteristic')\n",
    "        plt.legend(loc='lower right')\n",
    "        plt.show()\n",
    "\n",
    "    def plot_confusion_matrix(self, conf_matrix):\n",
    "        # Plot the confusion matrix\n",
    "        plt.figure(figsize=(7, 5))\n",
    "        sns.heatmap(conf_matrix, annot=True, fmt='d', cmap='Blues', cbar=False, xticklabels=['Poor', 'Standard', 'Good'], yticklabels=['Poor', 'Standard', 'Good'])\n",
    "        plt.title('Confusion Matrix')\n",
    "        plt.xlabel('Predicted')\n",
    "        plt.ylabel('Actual')\n",
    "        plt.show()\n",
    "\n",
    "    def evaluate_model(self, model_type: str):\n",
    "        # Evaluate the model and get the metrics\n",
    "        validation_accuracy, auc_score, conf_matrix, X_test, y_test = self.train_classifier(model_type=model_type)\n",
    "        print(f\"Model: {model_type}\")\n",
    "        print(f\"Accuracy: {validation_accuracy:.4f}\")\n",
    "        print(f\"AUC Score: {auc_score:.4f}\")\n",
    "        \n",
    "        self.plot_roc_curve(X_test, y_test)\n",
    "        \n",
    "        self.plot_confusion_matrix(conf_matrix)"
   ],
   "id": "bf0eb902e624dd55"
  },
  {
   "metadata": {},
   "cell_type": "markdown",
   "source": "### Load data and evaluate",
   "id": "601a51425994cce0"
  },
  {
   "metadata": {},
   "cell_type": "code",
   "outputs": [],
   "execution_count": null,
   "source": [
    "# Load the data\n",
    "data_train = pd.read_csv('train_cleaned.csv')\n",
    "data_test = pd.read_csv('data_test.csv')\n",
    "\n",
    "# Create an instance of the model\n",
    "classifier = CreditRiskModel(data_train, data_test)\n",
    "\n",
    "# Evaluate the three models\n",
    "for model in ['logistic', 'random_forest', 'xgboost']:\n",
    "    classifier.evaluate_model(model_type=model)"
   ],
   "id": "3e2815d7533e076f"
  }
 ],
 "metadata": {
  "kernelspec": {
   "display_name": "Python 3",
   "language": "python",
   "name": "python3"
  },
  "language_info": {
   "codemirror_mode": {
    "name": "ipython",
    "version": 2
   },
   "file_extension": ".py",
   "mimetype": "text/x-python",
   "name": "python",
   "nbconvert_exporter": "python",
   "pygments_lexer": "ipython2",
   "version": "2.7.6"
  }
 },
 "nbformat": 4,
 "nbformat_minor": 5
}
