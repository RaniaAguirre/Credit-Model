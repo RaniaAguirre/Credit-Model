{
 "cells": [
  {
   "cell_type": "markdown",
   "metadata": {},
   "source": [
    "# Dataset Cleaning"
   ]
  },
  {
   "cell_type": "markdown",
   "metadata": {},
   "source": [
    "# Dataset info\n",
    "ID: Unique identifier for each entry in the dataset.\n",
    "\n",
    "Customer_ID: Identifier for each customer.\n",
    "\n",
    "Month: Month of data collection.\n",
    "\n",
    "Name: Name of the customer.\n",
    "\n",
    "Age: Age of the customer.\n",
    "\n",
    "SSN: Social Security Number of the customer.\n",
    "\n",
    "Occupation: Occupation of the customer.\n",
    "\n",
    "Annual_Income: Annual income of the customer.\n",
    "\n",
    "Monthly_Inhand_Salary: Monthly salary after deductions.\n",
    "\n",
    "Num_Bank_Accounts: Number of bank accounts the customer has.\n",
    "\n",
    "Num_Credit_Card: Number of credit cards the customer has.\n",
    "\n",
    "Interest_Rate: Interest rate applied on loans.\n",
    "\n",
    "Num_of_Loan: Number of loans the customer has.\n",
    "\n",
    "Type_of_Loan: Type of loan taken by the customer.\n",
    "\n",
    "Delay_from_due_date: Number of days delayed from due date for payments.\n",
    "\n",
    "Num_of_Delayed_Payment: Number of delayed payments made by the customer.\n",
    "\n",
    "Changed_Credit_Limit: Indicates if the credit limit has been changed.\n",
    "\n",
    "Num_Credit_Inquiries: Number of credit inquiries made by the customer.\n",
    "\n",
    "Credit_Mix: Mix of different types of credit accounts held by the customer.\n",
    "\n",
    "Outstanding_Debt: Amount of outstanding debt.\n",
    "\n",
    "Credit_Utilization_Ratio: Ratio of credit used to credit available.\n",
    "\n",
    "Credit_History_Age: Age of credit history.\n",
    "\n",
    "Payment_of_Min_Amount: Indicates if minimum payment amount is met.\n",
    "\n",
    "Total_EMI_per_month: Total Equated Monthly Installment (EMI) paid by the customer.\n",
    "\n",
    "Amount_invested_monthly: Amount invested monthly by the customer.\n",
    "\n",
    "Payment_Behaviour: Payment behavior of the customer.\n",
    "\n",
    "Monthly_Balance: Monthly balance in the account.\n",
    "\n",
    "Credit_Score: Target variable - credit score of the customer."
   ]
  },
  {
   "cell_type": "markdown",
   "metadata": {},
   "source": [
    "### Import libraries"
   ]
  },
  {
   "cell_type": "code",
   "execution_count": 4,
   "metadata": {},
   "outputs": [],
   "source": [
    "import numpy as np\n",
    "import pandas as pd\n",
    "import seaborn as sns\n",
    "import matplotlib.pyplot as plt\n",
    "from sklearn.impute import KNNImputer\n",
    "import re\n",
    "import datetime\n",
    "from sklearn.linear_model import LinearRegression\n",
    "plt.style.use('ggplot')\n",
    "\n",
    "%matplotlib inline\n",
    "# %matplotlib notebook\n",
    "plt.rcParams[\"figure.figsize\"] = (12, 6)\n",
    "# plt.rcParams['figure.dpi'] = 100\n",
    "sns.set_style(\"whitegrid\")\n",
    "import warnings\n",
    "\n",
    "warnings.filterwarnings(\"ignore\")\n",
    "warnings.warn(\"this will not show\")\n",
    "pd.set_option('display.float_format', lambda x: '%.3f' % x)\n"
   ]
  },
  {
   "cell_type": "markdown",
   "metadata": {},
   "source": [
    "# Data cleaning"
   ]
  },
  {
   "cell_type": "code",
   "execution_count": 6,
   "metadata": {},
   "outputs": [
    {
     "data": {
      "text/html": [
       "<div>\n",
       "<style scoped>\n",
       "    .dataframe tbody tr th:only-of-type {\n",
       "        vertical-align: middle;\n",
       "    }\n",
       "\n",
       "    .dataframe tbody tr th {\n",
       "        vertical-align: top;\n",
       "    }\n",
       "\n",
       "    .dataframe thead th {\n",
       "        text-align: right;\n",
       "    }\n",
       "</style>\n",
       "<table border=\"1\" class=\"dataframe\">\n",
       "  <thead>\n",
       "    <tr style=\"text-align: right;\">\n",
       "      <th></th>\n",
       "      <th>ID</th>\n",
       "      <th>Customer_ID</th>\n",
       "      <th>Month</th>\n",
       "      <th>Name</th>\n",
       "      <th>Age</th>\n",
       "      <th>SSN</th>\n",
       "      <th>Occupation</th>\n",
       "      <th>Annual_Income</th>\n",
       "      <th>Monthly_Inhand_Salary</th>\n",
       "      <th>Num_Bank_Accounts</th>\n",
       "      <th>...</th>\n",
       "      <th>Credit_Mix</th>\n",
       "      <th>Outstanding_Debt</th>\n",
       "      <th>Credit_Utilization_Ratio</th>\n",
       "      <th>Credit_History_Age</th>\n",
       "      <th>Payment_of_Min_Amount</th>\n",
       "      <th>Total_EMI_per_month</th>\n",
       "      <th>Amount_invested_monthly</th>\n",
       "      <th>Payment_Behaviour</th>\n",
       "      <th>Monthly_Balance</th>\n",
       "      <th>Credit_Score</th>\n",
       "    </tr>\n",
       "  </thead>\n",
       "  <tbody>\n",
       "    <tr>\n",
       "      <th>0</th>\n",
       "      <td>0x1602</td>\n",
       "      <td>CUS_0xd40</td>\n",
       "      <td>January</td>\n",
       "      <td>Aaron Maashoh</td>\n",
       "      <td>23</td>\n",
       "      <td>821-00-0265</td>\n",
       "      <td>Scientist</td>\n",
       "      <td>19114.12</td>\n",
       "      <td>1824.843</td>\n",
       "      <td>3</td>\n",
       "      <td>...</td>\n",
       "      <td>_</td>\n",
       "      <td>809.98</td>\n",
       "      <td>26.823</td>\n",
       "      <td>22 Years and 1 Months</td>\n",
       "      <td>No</td>\n",
       "      <td>49.575</td>\n",
       "      <td>80.41529543900253</td>\n",
       "      <td>High_spent_Small_value_payments</td>\n",
       "      <td>312.49408867943663</td>\n",
       "      <td>Good</td>\n",
       "    </tr>\n",
       "    <tr>\n",
       "      <th>1</th>\n",
       "      <td>0x1603</td>\n",
       "      <td>CUS_0xd40</td>\n",
       "      <td>February</td>\n",
       "      <td>Aaron Maashoh</td>\n",
       "      <td>23</td>\n",
       "      <td>821-00-0265</td>\n",
       "      <td>Scientist</td>\n",
       "      <td>19114.12</td>\n",
       "      <td>NaN</td>\n",
       "      <td>3</td>\n",
       "      <td>...</td>\n",
       "      <td>Good</td>\n",
       "      <td>809.98</td>\n",
       "      <td>31.945</td>\n",
       "      <td>NaN</td>\n",
       "      <td>No</td>\n",
       "      <td>49.575</td>\n",
       "      <td>118.28022162236736</td>\n",
       "      <td>Low_spent_Large_value_payments</td>\n",
       "      <td>284.62916249607184</td>\n",
       "      <td>Good</td>\n",
       "    </tr>\n",
       "    <tr>\n",
       "      <th>2</th>\n",
       "      <td>0x1604</td>\n",
       "      <td>CUS_0xd40</td>\n",
       "      <td>March</td>\n",
       "      <td>Aaron Maashoh</td>\n",
       "      <td>-500</td>\n",
       "      <td>821-00-0265</td>\n",
       "      <td>Scientist</td>\n",
       "      <td>19114.12</td>\n",
       "      <td>NaN</td>\n",
       "      <td>3</td>\n",
       "      <td>...</td>\n",
       "      <td>Good</td>\n",
       "      <td>809.98</td>\n",
       "      <td>28.609</td>\n",
       "      <td>22 Years and 3 Months</td>\n",
       "      <td>No</td>\n",
       "      <td>49.575</td>\n",
       "      <td>81.69952126</td>\n",
       "      <td>Low_spent_Medium_value_payments</td>\n",
       "      <td>331.2098628537912</td>\n",
       "      <td>Good</td>\n",
       "    </tr>\n",
       "    <tr>\n",
       "      <th>3</th>\n",
       "      <td>0x1605</td>\n",
       "      <td>CUS_0xd40</td>\n",
       "      <td>April</td>\n",
       "      <td>Aaron Maashoh</td>\n",
       "      <td>23</td>\n",
       "      <td>821-00-0265</td>\n",
       "      <td>Scientist</td>\n",
       "      <td>19114.12</td>\n",
       "      <td>NaN</td>\n",
       "      <td>3</td>\n",
       "      <td>...</td>\n",
       "      <td>Good</td>\n",
       "      <td>809.98</td>\n",
       "      <td>31.378</td>\n",
       "      <td>22 Years and 4 Months</td>\n",
       "      <td>No</td>\n",
       "      <td>49.575</td>\n",
       "      <td>199.4580743910713</td>\n",
       "      <td>Low_spent_Small_value_payments</td>\n",
       "      <td>223.45130972736786</td>\n",
       "      <td>Good</td>\n",
       "    </tr>\n",
       "    <tr>\n",
       "      <th>4</th>\n",
       "      <td>0x1606</td>\n",
       "      <td>CUS_0xd40</td>\n",
       "      <td>May</td>\n",
       "      <td>Aaron Maashoh</td>\n",
       "      <td>23</td>\n",
       "      <td>821-00-0265</td>\n",
       "      <td>Scientist</td>\n",
       "      <td>19114.12</td>\n",
       "      <td>1824.843</td>\n",
       "      <td>3</td>\n",
       "      <td>...</td>\n",
       "      <td>Good</td>\n",
       "      <td>809.98</td>\n",
       "      <td>24.797</td>\n",
       "      <td>22 Years and 5 Months</td>\n",
       "      <td>No</td>\n",
       "      <td>49.575</td>\n",
       "      <td>41.420153086217326</td>\n",
       "      <td>High_spent_Medium_value_payments</td>\n",
       "      <td>341.48923103222177</td>\n",
       "      <td>Good</td>\n",
       "    </tr>\n",
       "  </tbody>\n",
       "</table>\n",
       "<p>5 rows × 28 columns</p>\n",
       "</div>"
      ],
      "text/plain": [
       "       ID Customer_ID     Month           Name   Age          SSN Occupation  \\\n",
       "0  0x1602   CUS_0xd40   January  Aaron Maashoh    23  821-00-0265  Scientist   \n",
       "1  0x1603   CUS_0xd40  February  Aaron Maashoh    23  821-00-0265  Scientist   \n",
       "2  0x1604   CUS_0xd40     March  Aaron Maashoh  -500  821-00-0265  Scientist   \n",
       "3  0x1605   CUS_0xd40     April  Aaron Maashoh    23  821-00-0265  Scientist   \n",
       "4  0x1606   CUS_0xd40       May  Aaron Maashoh    23  821-00-0265  Scientist   \n",
       "\n",
       "  Annual_Income  Monthly_Inhand_Salary  Num_Bank_Accounts  ...  Credit_Mix  \\\n",
       "0      19114.12               1824.843                  3  ...           _   \n",
       "1      19114.12                    NaN                  3  ...        Good   \n",
       "2      19114.12                    NaN                  3  ...        Good   \n",
       "3      19114.12                    NaN                  3  ...        Good   \n",
       "4      19114.12               1824.843                  3  ...        Good   \n",
       "\n",
       "   Outstanding_Debt Credit_Utilization_Ratio     Credit_History_Age  \\\n",
       "0            809.98                   26.823  22 Years and 1 Months   \n",
       "1            809.98                   31.945                    NaN   \n",
       "2            809.98                   28.609  22 Years and 3 Months   \n",
       "3            809.98                   31.378  22 Years and 4 Months   \n",
       "4            809.98                   24.797  22 Years and 5 Months   \n",
       "\n",
       "   Payment_of_Min_Amount Total_EMI_per_month Amount_invested_monthly  \\\n",
       "0                     No              49.575       80.41529543900253   \n",
       "1                     No              49.575      118.28022162236736   \n",
       "2                     No              49.575             81.69952126   \n",
       "3                     No              49.575       199.4580743910713   \n",
       "4                     No              49.575      41.420153086217326   \n",
       "\n",
       "                  Payment_Behaviour     Monthly_Balance Credit_Score  \n",
       "0   High_spent_Small_value_payments  312.49408867943663         Good  \n",
       "1    Low_spent_Large_value_payments  284.62916249607184         Good  \n",
       "2   Low_spent_Medium_value_payments   331.2098628537912         Good  \n",
       "3    Low_spent_Small_value_payments  223.45130972736786         Good  \n",
       "4  High_spent_Medium_value_payments  341.48923103222177         Good  \n",
       "\n",
       "[5 rows x 28 columns]"
      ]
     },
     "execution_count": 6,
     "metadata": {},
     "output_type": "execute_result"
    }
   ],
   "source": [
    "df = pd.read_csv(\"train.csv\")\n",
    "df.head()"
   ]
  },
  {
   "cell_type": "code",
   "execution_count": 7,
   "metadata": {},
   "outputs": [
    {
     "name": "stdout",
     "output_type": "stream",
     "text": [
      "<class 'pandas.core.frame.DataFrame'>\n",
      "RangeIndex: 100000 entries, 0 to 99999\n",
      "Data columns (total 28 columns):\n",
      " #   Column                    Non-Null Count   Dtype  \n",
      "---  ------                    --------------   -----  \n",
      " 0   ID                        100000 non-null  object \n",
      " 1   Customer_ID               100000 non-null  object \n",
      " 2   Month                     100000 non-null  object \n",
      " 3   Name                      90015 non-null   object \n",
      " 4   Age                       100000 non-null  object \n",
      " 5   SSN                       100000 non-null  object \n",
      " 6   Occupation                100000 non-null  object \n",
      " 7   Annual_Income             100000 non-null  object \n",
      " 8   Monthly_Inhand_Salary     84998 non-null   float64\n",
      " 9   Num_Bank_Accounts         100000 non-null  int64  \n",
      " 10  Num_Credit_Card           100000 non-null  int64  \n",
      " 11  Interest_Rate             100000 non-null  int64  \n",
      " 12  Num_of_Loan               100000 non-null  object \n",
      " 13  Type_of_Loan              88592 non-null   object \n",
      " 14  Delay_from_due_date       100000 non-null  int64  \n",
      " 15  Num_of_Delayed_Payment    92998 non-null   object \n",
      " 16  Changed_Credit_Limit      100000 non-null  object \n",
      " 17  Num_Credit_Inquiries      98035 non-null   float64\n",
      " 18  Credit_Mix                100000 non-null  object \n",
      " 19  Outstanding_Debt          100000 non-null  object \n",
      " 20  Credit_Utilization_Ratio  100000 non-null  float64\n",
      " 21  Credit_History_Age        90970 non-null   object \n",
      " 22  Payment_of_Min_Amount     100000 non-null  object \n",
      " 23  Total_EMI_per_month       100000 non-null  float64\n",
      " 24  Amount_invested_monthly   95521 non-null   object \n",
      " 25  Payment_Behaviour         100000 non-null  object \n",
      " 26  Monthly_Balance           98800 non-null   object \n",
      " 27  Credit_Score              100000 non-null  object \n",
      "dtypes: float64(4), int64(4), object(20)\n",
      "memory usage: 21.4+ MB\n"
     ]
    }
   ],
   "source": [
    "df.info()"
   ]
  },
  {
   "cell_type": "code",
   "execution_count": 8,
   "metadata": {},
   "outputs": [
    {
     "name": "stdout",
     "output_type": "stream",
     "text": [
      "Duplicate check...\n",
      "There are no duplicated observations in the dataset.\n"
     ]
    }
   ],
   "source": [
    "# Duplicate check\n",
    "def duplicate_values(df):\n",
    "    print(\"Duplicate check...\")\n",
    "    num_duplicates = df.duplicated(subset=None, keep='first').sum()\n",
    "    if num_duplicates > 0:\n",
    "        print(\"There are\", num_duplicates, \"duplicated observations in the dataset.\")\n",
    "        df.drop_duplicates(keep='first', inplace=True)\n",
    "        print(num_duplicates, \"duplicates were dropped!\")\n",
    "        print(\"No more duplicate rows!\")\n",
    "    else:\n",
    "        print(\"There are no duplicated observations in the dataset.\")\n",
    "        \n",
    "duplicate_values(df)"
   ]
  },
  {
   "cell_type": "code",
   "execution_count": 9,
   "metadata": {},
   "outputs": [],
   "source": [
    "# dropping unnecessary columns for modelling\n",
    "df = df.drop(['ID','Customer_ID','Month','Name','SSN', 'Type_of_Loan', 'Changed_Credit_Limit', 'Monthly_Inhand_Salary'], axis = 1)"
   ]
  },
  {
   "cell_type": "code",
   "execution_count": 10,
   "metadata": {},
   "outputs": [],
   "source": [
    "target_mapping = {'Poor': 0, 'Standard': 1, 'Good': 2}\n",
    "\n",
    "# Map the target variable using the defined mapping\n",
    "df['Credit_Score'] = df['Credit_Score'].map(target_mapping)"
   ]
  },
  {
   "cell_type": "code",
   "execution_count": 11,
   "metadata": {},
   "outputs": [
    {
     "data": {
      "text/html": [
       "<div>\n",
       "<style scoped>\n",
       "    .dataframe tbody tr th:only-of-type {\n",
       "        vertical-align: middle;\n",
       "    }\n",
       "\n",
       "    .dataframe tbody tr th {\n",
       "        vertical-align: top;\n",
       "    }\n",
       "\n",
       "    .dataframe thead th {\n",
       "        text-align: right;\n",
       "    }\n",
       "</style>\n",
       "<table border=\"1\" class=\"dataframe\">\n",
       "  <thead>\n",
       "    <tr style=\"text-align: right;\">\n",
       "      <th></th>\n",
       "      <th>Age</th>\n",
       "      <th>Occupation</th>\n",
       "      <th>Annual_Income</th>\n",
       "      <th>Num_Bank_Accounts</th>\n",
       "      <th>Num_Credit_Card</th>\n",
       "      <th>Interest_Rate</th>\n",
       "      <th>Num_of_Loan</th>\n",
       "      <th>Delay_from_due_date</th>\n",
       "      <th>Num_of_Delayed_Payment</th>\n",
       "      <th>Num_Credit_Inquiries</th>\n",
       "      <th>Credit_Mix</th>\n",
       "      <th>Outstanding_Debt</th>\n",
       "      <th>Credit_Utilization_Ratio</th>\n",
       "      <th>Credit_History_Age</th>\n",
       "      <th>Payment_of_Min_Amount</th>\n",
       "      <th>Total_EMI_per_month</th>\n",
       "      <th>Amount_invested_monthly</th>\n",
       "      <th>Payment_Behaviour</th>\n",
       "      <th>Monthly_Balance</th>\n",
       "      <th>Credit_Score</th>\n",
       "    </tr>\n",
       "  </thead>\n",
       "  <tbody>\n",
       "    <tr>\n",
       "      <th>0</th>\n",
       "      <td>23</td>\n",
       "      <td>Scientist</td>\n",
       "      <td>19114.12</td>\n",
       "      <td>3</td>\n",
       "      <td>4</td>\n",
       "      <td>3</td>\n",
       "      <td>4</td>\n",
       "      <td>3</td>\n",
       "      <td>7</td>\n",
       "      <td>4.000</td>\n",
       "      <td></td>\n",
       "      <td>809.98</td>\n",
       "      <td>26.823</td>\n",
       "      <td>22 Years and 1 Months</td>\n",
       "      <td>No</td>\n",
       "      <td>49.575</td>\n",
       "      <td>80.41529543900253</td>\n",
       "      <td>HighspentSmallvaluepayments</td>\n",
       "      <td>312.49408867943663</td>\n",
       "      <td>2</td>\n",
       "    </tr>\n",
       "    <tr>\n",
       "      <th>8</th>\n",
       "      <td>28</td>\n",
       "      <td></td>\n",
       "      <td>34847.84</td>\n",
       "      <td>2</td>\n",
       "      <td>4</td>\n",
       "      <td>6</td>\n",
       "      <td>1</td>\n",
       "      <td>3</td>\n",
       "      <td>4</td>\n",
       "      <td>2.000</td>\n",
       "      <td>Good</td>\n",
       "      <td>605.03</td>\n",
       "      <td>24.464</td>\n",
       "      <td>26 Years and 7 Months</td>\n",
       "      <td>No</td>\n",
       "      <td>18.816</td>\n",
       "      <td>104.2918252</td>\n",
       "      <td>LowspentSmallvaluepayments</td>\n",
       "      <td>470.69062692529184</td>\n",
       "      <td>1</td>\n",
       "    </tr>\n",
       "    <tr>\n",
       "      <th>10</th>\n",
       "      <td>28</td>\n",
       "      <td>Teacher</td>\n",
       "      <td>34847.84</td>\n",
       "      <td>2</td>\n",
       "      <td>1385</td>\n",
       "      <td>6</td>\n",
       "      <td>1</td>\n",
       "      <td>3</td>\n",
       "      <td>-1</td>\n",
       "      <td>2.000</td>\n",
       "      <td></td>\n",
       "      <td>605.03</td>\n",
       "      <td>33.225</td>\n",
       "      <td>26 Years and 9 Months</td>\n",
       "      <td>No</td>\n",
       "      <td>18.816</td>\n",
       "      <td>58.51597569589465</td>\n",
       "      <td>HighspentLargevaluepayments</td>\n",
       "      <td>466.46647639764313</td>\n",
       "      <td>1</td>\n",
       "    </tr>\n",
       "    <tr>\n",
       "      <th>16</th>\n",
       "      <td>34</td>\n",
       "      <td></td>\n",
       "      <td>143162.64</td>\n",
       "      <td>1</td>\n",
       "      <td>5</td>\n",
       "      <td>8</td>\n",
       "      <td>3</td>\n",
       "      <td>5</td>\n",
       "      <td>8</td>\n",
       "      <td>3.000</td>\n",
       "      <td>Good</td>\n",
       "      <td>1303.01</td>\n",
       "      <td>28.617</td>\n",
       "      <td>17 Years and 9 Months</td>\n",
       "      <td>No</td>\n",
       "      <td>246.992</td>\n",
       "      <td>168.4137027</td>\n",
       "      <td>!@9#%8</td>\n",
       "      <td>1043.3159778669492</td>\n",
       "      <td>2</td>\n",
       "    </tr>\n",
       "    <tr>\n",
       "      <th>18</th>\n",
       "      <td>34</td>\n",
       "      <td></td>\n",
       "      <td>143162.64</td>\n",
       "      <td>1</td>\n",
       "      <td>5</td>\n",
       "      <td>8</td>\n",
       "      <td>3</td>\n",
       "      <td>8</td>\n",
       "      <td>7</td>\n",
       "      <td>NaN</td>\n",
       "      <td>Good</td>\n",
       "      <td>1303.01</td>\n",
       "      <td>26.520</td>\n",
       "      <td>17 Years and 11 Months</td>\n",
       "      <td>No</td>\n",
       "      <td>246.992</td>\n",
       "      <td>10000</td>\n",
       "      <td>HighspentSmallvaluepayments</td>\n",
       "      <td>715.7413674</td>\n",
       "      <td>2</td>\n",
       "    </tr>\n",
       "    <tr>\n",
       "      <th>...</th>\n",
       "      <td>...</td>\n",
       "      <td>...</td>\n",
       "      <td>...</td>\n",
       "      <td>...</td>\n",
       "      <td>...</td>\n",
       "      <td>...</td>\n",
       "      <td>...</td>\n",
       "      <td>...</td>\n",
       "      <td>...</td>\n",
       "      <td>...</td>\n",
       "      <td>...</td>\n",
       "      <td>...</td>\n",
       "      <td>...</td>\n",
       "      <td>...</td>\n",
       "      <td>...</td>\n",
       "      <td>...</td>\n",
       "      <td>...</td>\n",
       "      <td>...</td>\n",
       "      <td>...</td>\n",
       "      <td>...</td>\n",
       "    </tr>\n",
       "    <tr>\n",
       "      <th>99989</th>\n",
       "      <td>28</td>\n",
       "      <td></td>\n",
       "      <td>20002.88</td>\n",
       "      <td>10</td>\n",
       "      <td>8</td>\n",
       "      <td>29</td>\n",
       "      <td>5</td>\n",
       "      <td>33</td>\n",
       "      <td>25</td>\n",
       "      <td>9.000</td>\n",
       "      <td>Bad</td>\n",
       "      <td>3571.7</td>\n",
       "      <td>33.360</td>\n",
       "      <td>6 Years and 1 Months</td>\n",
       "      <td>Yes</td>\n",
       "      <td>60.965</td>\n",
       "      <td>74.36660309585342</td>\n",
       "      <td>!@9#%8</td>\n",
       "      <td>307.659</td>\n",
       "      <td>1</td>\n",
       "    </tr>\n",
       "    <tr>\n",
       "      <th>99992</th>\n",
       "      <td>24</td>\n",
       "      <td>Mechanic</td>\n",
       "      <td>39628.99</td>\n",
       "      <td>4</td>\n",
       "      <td>6</td>\n",
       "      <td>7</td>\n",
       "      <td>2</td>\n",
       "      <td>23</td>\n",
       "      <td>NaN</td>\n",
       "      <td>3.000</td>\n",
       "      <td></td>\n",
       "      <td>502.38</td>\n",
       "      <td>32.991</td>\n",
       "      <td>31 Years and 3 Months</td>\n",
       "      <td>No</td>\n",
       "      <td>35.104</td>\n",
       "      <td>401.1964806036356</td>\n",
       "      <td>LowspentSmallvaluepayments</td>\n",
       "      <td>189.641</td>\n",
       "      <td>0</td>\n",
       "    </tr>\n",
       "    <tr>\n",
       "      <th>99994</th>\n",
       "      <td>25</td>\n",
       "      <td>Mechanic</td>\n",
       "      <td>39628.99</td>\n",
       "      <td>4</td>\n",
       "      <td>6</td>\n",
       "      <td>7</td>\n",
       "      <td>2</td>\n",
       "      <td>20</td>\n",
       "      <td>6</td>\n",
       "      <td>3.000</td>\n",
       "      <td></td>\n",
       "      <td>502.38</td>\n",
       "      <td>39.324</td>\n",
       "      <td>31 Years and 5 Months</td>\n",
       "      <td>No</td>\n",
       "      <td>35.104</td>\n",
       "      <td>140.58140274528395</td>\n",
       "      <td>HighspentMediumvaluepayments</td>\n",
       "      <td>410.256</td>\n",
       "      <td>0</td>\n",
       "    </tr>\n",
       "    <tr>\n",
       "      <th>99995</th>\n",
       "      <td>25</td>\n",
       "      <td>Mechanic</td>\n",
       "      <td>39628.99</td>\n",
       "      <td>4</td>\n",
       "      <td>6</td>\n",
       "      <td>7</td>\n",
       "      <td>2</td>\n",
       "      <td>23</td>\n",
       "      <td>7</td>\n",
       "      <td>3.000</td>\n",
       "      <td></td>\n",
       "      <td>502.38</td>\n",
       "      <td>34.664</td>\n",
       "      <td>31 Years and 6 Months</td>\n",
       "      <td>No</td>\n",
       "      <td>35.104</td>\n",
       "      <td>60.97133255718485</td>\n",
       "      <td>HighspentLargevaluepayments</td>\n",
       "      <td>479.866</td>\n",
       "      <td>0</td>\n",
       "    </tr>\n",
       "    <tr>\n",
       "      <th>99996</th>\n",
       "      <td>25</td>\n",
       "      <td>Mechanic</td>\n",
       "      <td>39628.99</td>\n",
       "      <td>4</td>\n",
       "      <td>6</td>\n",
       "      <td>7</td>\n",
       "      <td>2</td>\n",
       "      <td>18</td>\n",
       "      <td>7</td>\n",
       "      <td>3.000</td>\n",
       "      <td></td>\n",
       "      <td>502.38</td>\n",
       "      <td>40.566</td>\n",
       "      <td>31 Years and 7 Months</td>\n",
       "      <td>No</td>\n",
       "      <td>35.104</td>\n",
       "      <td>54.18595028760385</td>\n",
       "      <td>HighspentMediumvaluepayments</td>\n",
       "      <td>496.652</td>\n",
       "      <td>0</td>\n",
       "    </tr>\n",
       "  </tbody>\n",
       "</table>\n",
       "<p>25836 rows × 20 columns</p>\n",
       "</div>"
      ],
      "text/plain": [
       "      Age Occupation Annual_Income  Num_Bank_Accounts  Num_Credit_Card  \\\n",
       "0      23  Scientist      19114.12                  3                4   \n",
       "8      28                 34847.84                  2                4   \n",
       "10     28    Teacher      34847.84                  2             1385   \n",
       "16     34                143162.64                  1                5   \n",
       "18     34                143162.64                  1                5   \n",
       "...    ..        ...           ...                ...              ...   \n",
       "99989  28                 20002.88                 10                8   \n",
       "99992  24   Mechanic      39628.99                  4                6   \n",
       "99994  25   Mechanic      39628.99                  4                6   \n",
       "99995  25   Mechanic      39628.99                  4                6   \n",
       "99996  25   Mechanic      39628.99                  4                6   \n",
       "\n",
       "       Interest_Rate Num_of_Loan  Delay_from_due_date Num_of_Delayed_Payment  \\\n",
       "0                  3           4                    3                      7   \n",
       "8                  6           1                    3                      4   \n",
       "10                 6           1                    3                     -1   \n",
       "16                 8           3                    5                      8   \n",
       "18                 8           3                    8                      7   \n",
       "...              ...         ...                  ...                    ...   \n",
       "99989             29           5                   33                     25   \n",
       "99992              7           2                   23                    NaN   \n",
       "99994              7           2                   20                      6   \n",
       "99995              7           2                   23                      7   \n",
       "99996              7           2                   18                      7   \n",
       "\n",
       "       Num_Credit_Inquiries Credit_Mix Outstanding_Debt  \\\n",
       "0                     4.000                      809.98   \n",
       "8                     2.000       Good           605.03   \n",
       "10                    2.000                      605.03   \n",
       "16                    3.000       Good          1303.01   \n",
       "18                      NaN       Good          1303.01   \n",
       "...                     ...        ...              ...   \n",
       "99989                 9.000        Bad           3571.7   \n",
       "99992                 3.000                      502.38   \n",
       "99994                 3.000                      502.38   \n",
       "99995                 3.000                      502.38   \n",
       "99996                 3.000                      502.38   \n",
       "\n",
       "       Credit_Utilization_Ratio      Credit_History_Age Payment_of_Min_Amount  \\\n",
       "0                        26.823   22 Years and 1 Months                    No   \n",
       "8                        24.464   26 Years and 7 Months                    No   \n",
       "10                       33.225   26 Years and 9 Months                    No   \n",
       "16                       28.617   17 Years and 9 Months                    No   \n",
       "18                       26.520  17 Years and 11 Months                    No   \n",
       "...                         ...                     ...                   ...   \n",
       "99989                    33.360    6 Years and 1 Months                   Yes   \n",
       "99992                    32.991   31 Years and 3 Months                    No   \n",
       "99994                    39.324   31 Years and 5 Months                    No   \n",
       "99995                    34.664   31 Years and 6 Months                    No   \n",
       "99996                    40.566   31 Years and 7 Months                    No   \n",
       "\n",
       "       Total_EMI_per_month Amount_invested_monthly  \\\n",
       "0                   49.575       80.41529543900253   \n",
       "8                   18.816             104.2918252   \n",
       "10                  18.816       58.51597569589465   \n",
       "16                 246.992             168.4137027   \n",
       "18                 246.992                   10000   \n",
       "...                    ...                     ...   \n",
       "99989               60.965       74.36660309585342   \n",
       "99992               35.104       401.1964806036356   \n",
       "99994               35.104      140.58140274528395   \n",
       "99995               35.104       60.97133255718485   \n",
       "99996               35.104       54.18595028760385   \n",
       "\n",
       "                  Payment_Behaviour     Monthly_Balance  Credit_Score  \n",
       "0       HighspentSmallvaluepayments  312.49408867943663             2  \n",
       "8        LowspentSmallvaluepayments  470.69062692529184             1  \n",
       "10      HighspentLargevaluepayments  466.46647639764313             1  \n",
       "16                           !@9#%8  1043.3159778669492             2  \n",
       "18      HighspentSmallvaluepayments         715.7413674             2  \n",
       "...                             ...                 ...           ...  \n",
       "99989                        !@9#%8             307.659             1  \n",
       "99992    LowspentSmallvaluepayments             189.641             0  \n",
       "99994  HighspentMediumvaluepayments             410.256             0  \n",
       "99995   HighspentLargevaluepayments             479.866             0  \n",
       "99996  HighspentMediumvaluepayments             496.652             0  \n",
       "\n",
       "[25836 rows x 20 columns]"
      ]
     },
     "execution_count": 11,
     "metadata": {},
     "output_type": "execute_result"
    }
   ],
   "source": [
    "df = df.replace(\"_\", \"\", regex=True)\n",
    "df[df.eq('').any(axis=1)] "
   ]
  },
  {
   "cell_type": "code",
   "execution_count": 12,
   "metadata": {},
   "outputs": [],
   "source": [
    "rows_with_empty_values = df[df.eq('').any(axis=1)]\n",
    "\n",
    "# Fill empty values with np.nan in selected rows\n",
    "df.loc[rows_with_empty_values.index] = df.loc[rows_with_empty_values.index].replace('', np.nan)"
   ]
  },
  {
   "cell_type": "code",
   "execution_count": 13,
   "metadata": {},
   "outputs": [
    {
     "data": {
      "text/html": [
       "<div>\n",
       "<style scoped>\n",
       "    .dataframe tbody tr th:only-of-type {\n",
       "        vertical-align: middle;\n",
       "    }\n",
       "\n",
       "    .dataframe tbody tr th {\n",
       "        vertical-align: top;\n",
       "    }\n",
       "\n",
       "    .dataframe thead th {\n",
       "        text-align: right;\n",
       "    }\n",
       "</style>\n",
       "<table border=\"1\" class=\"dataframe\">\n",
       "  <thead>\n",
       "    <tr style=\"text-align: right;\">\n",
       "      <th></th>\n",
       "      <th>Age</th>\n",
       "      <th>Occupation</th>\n",
       "      <th>Annual_Income</th>\n",
       "      <th>Num_Bank_Accounts</th>\n",
       "      <th>Num_Credit_Card</th>\n",
       "      <th>Interest_Rate</th>\n",
       "      <th>Num_of_Loan</th>\n",
       "      <th>Delay_from_due_date</th>\n",
       "      <th>Num_of_Delayed_Payment</th>\n",
       "      <th>Num_Credit_Inquiries</th>\n",
       "      <th>Credit_Mix</th>\n",
       "      <th>Outstanding_Debt</th>\n",
       "      <th>Credit_Utilization_Ratio</th>\n",
       "      <th>Credit_History_Age</th>\n",
       "      <th>Payment_of_Min_Amount</th>\n",
       "      <th>Total_EMI_per_month</th>\n",
       "      <th>Amount_invested_monthly</th>\n",
       "      <th>Payment_Behaviour</th>\n",
       "      <th>Monthly_Balance</th>\n",
       "      <th>Credit_Score</th>\n",
       "    </tr>\n",
       "  </thead>\n",
       "  <tbody>\n",
       "    <tr>\n",
       "      <th>0</th>\n",
       "      <td>23</td>\n",
       "      <td>Scientist</td>\n",
       "      <td>19114.12</td>\n",
       "      <td>3</td>\n",
       "      <td>4</td>\n",
       "      <td>3</td>\n",
       "      <td>4</td>\n",
       "      <td>3</td>\n",
       "      <td>7</td>\n",
       "      <td>4.000</td>\n",
       "      <td>NaN</td>\n",
       "      <td>809.98</td>\n",
       "      <td>26.823</td>\n",
       "      <td>22 Years and 1 Months</td>\n",
       "      <td>No</td>\n",
       "      <td>49.575</td>\n",
       "      <td>80.41529543900253</td>\n",
       "      <td>HighspentSmallvaluepayments</td>\n",
       "      <td>312.49408867943663</td>\n",
       "      <td>2</td>\n",
       "    </tr>\n",
       "    <tr>\n",
       "      <th>1</th>\n",
       "      <td>23</td>\n",
       "      <td>Scientist</td>\n",
       "      <td>19114.12</td>\n",
       "      <td>3</td>\n",
       "      <td>4</td>\n",
       "      <td>3</td>\n",
       "      <td>4</td>\n",
       "      <td>-1</td>\n",
       "      <td>NaN</td>\n",
       "      <td>4.000</td>\n",
       "      <td>Good</td>\n",
       "      <td>809.98</td>\n",
       "      <td>31.945</td>\n",
       "      <td>NaN</td>\n",
       "      <td>No</td>\n",
       "      <td>49.575</td>\n",
       "      <td>118.28022162236736</td>\n",
       "      <td>LowspentLargevaluepayments</td>\n",
       "      <td>284.62916249607184</td>\n",
       "      <td>2</td>\n",
       "    </tr>\n",
       "    <tr>\n",
       "      <th>2</th>\n",
       "      <td>-500</td>\n",
       "      <td>Scientist</td>\n",
       "      <td>19114.12</td>\n",
       "      <td>3</td>\n",
       "      <td>4</td>\n",
       "      <td>3</td>\n",
       "      <td>4</td>\n",
       "      <td>3</td>\n",
       "      <td>7</td>\n",
       "      <td>4.000</td>\n",
       "      <td>Good</td>\n",
       "      <td>809.98</td>\n",
       "      <td>28.609</td>\n",
       "      <td>22 Years and 3 Months</td>\n",
       "      <td>No</td>\n",
       "      <td>49.575</td>\n",
       "      <td>81.69952126</td>\n",
       "      <td>LowspentMediumvaluepayments</td>\n",
       "      <td>331.2098628537912</td>\n",
       "      <td>2</td>\n",
       "    </tr>\n",
       "    <tr>\n",
       "      <th>3</th>\n",
       "      <td>23</td>\n",
       "      <td>Scientist</td>\n",
       "      <td>19114.12</td>\n",
       "      <td>3</td>\n",
       "      <td>4</td>\n",
       "      <td>3</td>\n",
       "      <td>4</td>\n",
       "      <td>5</td>\n",
       "      <td>4</td>\n",
       "      <td>4.000</td>\n",
       "      <td>Good</td>\n",
       "      <td>809.98</td>\n",
       "      <td>31.378</td>\n",
       "      <td>22 Years and 4 Months</td>\n",
       "      <td>No</td>\n",
       "      <td>49.575</td>\n",
       "      <td>199.4580743910713</td>\n",
       "      <td>LowspentSmallvaluepayments</td>\n",
       "      <td>223.45130972736786</td>\n",
       "      <td>2</td>\n",
       "    </tr>\n",
       "    <tr>\n",
       "      <th>4</th>\n",
       "      <td>23</td>\n",
       "      <td>Scientist</td>\n",
       "      <td>19114.12</td>\n",
       "      <td>3</td>\n",
       "      <td>4</td>\n",
       "      <td>3</td>\n",
       "      <td>4</td>\n",
       "      <td>6</td>\n",
       "      <td>NaN</td>\n",
       "      <td>4.000</td>\n",
       "      <td>Good</td>\n",
       "      <td>809.98</td>\n",
       "      <td>24.797</td>\n",
       "      <td>22 Years and 5 Months</td>\n",
       "      <td>No</td>\n",
       "      <td>49.575</td>\n",
       "      <td>41.420153086217326</td>\n",
       "      <td>HighspentMediumvaluepayments</td>\n",
       "      <td>341.48923103222177</td>\n",
       "      <td>2</td>\n",
       "    </tr>\n",
       "  </tbody>\n",
       "</table>\n",
       "</div>"
      ],
      "text/plain": [
       "    Age Occupation Annual_Income  Num_Bank_Accounts  Num_Credit_Card  \\\n",
       "0    23  Scientist      19114.12                  3                4   \n",
       "1    23  Scientist      19114.12                  3                4   \n",
       "2  -500  Scientist      19114.12                  3                4   \n",
       "3    23  Scientist      19114.12                  3                4   \n",
       "4    23  Scientist      19114.12                  3                4   \n",
       "\n",
       "   Interest_Rate Num_of_Loan  Delay_from_due_date Num_of_Delayed_Payment  \\\n",
       "0              3           4                    3                      7   \n",
       "1              3           4                   -1                    NaN   \n",
       "2              3           4                    3                      7   \n",
       "3              3           4                    5                      4   \n",
       "4              3           4                    6                    NaN   \n",
       "\n",
       "   Num_Credit_Inquiries Credit_Mix Outstanding_Debt  Credit_Utilization_Ratio  \\\n",
       "0                 4.000        NaN           809.98                    26.823   \n",
       "1                 4.000       Good           809.98                    31.945   \n",
       "2                 4.000       Good           809.98                    28.609   \n",
       "3                 4.000       Good           809.98                    31.378   \n",
       "4                 4.000       Good           809.98                    24.797   \n",
       "\n",
       "      Credit_History_Age Payment_of_Min_Amount  Total_EMI_per_month  \\\n",
       "0  22 Years and 1 Months                    No               49.575   \n",
       "1                    NaN                    No               49.575   \n",
       "2  22 Years and 3 Months                    No               49.575   \n",
       "3  22 Years and 4 Months                    No               49.575   \n",
       "4  22 Years and 5 Months                    No               49.575   \n",
       "\n",
       "  Amount_invested_monthly             Payment_Behaviour     Monthly_Balance  \\\n",
       "0       80.41529543900253   HighspentSmallvaluepayments  312.49408867943663   \n",
       "1      118.28022162236736    LowspentLargevaluepayments  284.62916249607184   \n",
       "2             81.69952126   LowspentMediumvaluepayments   331.2098628537912   \n",
       "3       199.4580743910713    LowspentSmallvaluepayments  223.45130972736786   \n",
       "4      41.420153086217326  HighspentMediumvaluepayments  341.48923103222177   \n",
       "\n",
       "   Credit_Score  \n",
       "0             2  \n",
       "1             2  \n",
       "2             2  \n",
       "3             2  \n",
       "4             2  "
      ]
     },
     "execution_count": 13,
     "metadata": {},
     "output_type": "execute_result"
    }
   ],
   "source": [
    "df.head()"
   ]
  },
  {
   "cell_type": "code",
   "execution_count": 14,
   "metadata": {},
   "outputs": [
    {
     "data": {
      "text/plain": [
       "(100000, 20)"
      ]
     },
     "execution_count": 14,
     "metadata": {},
     "output_type": "execute_result"
    }
   ],
   "source": [
    "df.shape"
   ]
  },
  {
   "cell_type": "code",
   "execution_count": 15,
   "metadata": {},
   "outputs": [
    {
     "data": {
      "text/plain": [
       "Age                             0\n",
       "Occupation                   7062\n",
       "Annual_Income                   0\n",
       "Num_Bank_Accounts               0\n",
       "Num_Credit_Card                 0\n",
       "Interest_Rate                   0\n",
       "Num_of_Loan                     0\n",
       "Delay_from_due_date             0\n",
       "Num_of_Delayed_Payment       7002\n",
       "Num_Credit_Inquiries         1965\n",
       "Credit_Mix                  20195\n",
       "Outstanding_Debt                0\n",
       "Credit_Utilization_Ratio        0\n",
       "Credit_History_Age           9030\n",
       "Payment_of_Min_Amount           0\n",
       "Total_EMI_per_month             0\n",
       "Amount_invested_monthly      4479\n",
       "Payment_Behaviour               0\n",
       "Monthly_Balance              1200\n",
       "Credit_Score                    0\n",
       "dtype: int64"
      ]
     },
     "execution_count": 15,
     "metadata": {},
     "output_type": "execute_result"
    }
   ],
   "source": [
    "df.isna().sum()"
   ]
  },
  {
   "cell_type": "code",
   "execution_count": 16,
   "metadata": {},
   "outputs": [
    {
     "data": {
      "text/html": [
       "<div>\n",
       "<style scoped>\n",
       "    .dataframe tbody tr th:only-of-type {\n",
       "        vertical-align: middle;\n",
       "    }\n",
       "\n",
       "    .dataframe tbody tr th {\n",
       "        vertical-align: top;\n",
       "    }\n",
       "\n",
       "    .dataframe thead th {\n",
       "        text-align: right;\n",
       "    }\n",
       "</style>\n",
       "<table border=\"1\" class=\"dataframe\">\n",
       "  <thead>\n",
       "    <tr style=\"text-align: right;\">\n",
       "      <th></th>\n",
       "      <th>count</th>\n",
       "      <th>mean</th>\n",
       "      <th>std</th>\n",
       "      <th>min</th>\n",
       "      <th>25%</th>\n",
       "      <th>50%</th>\n",
       "      <th>75%</th>\n",
       "      <th>max</th>\n",
       "    </tr>\n",
       "  </thead>\n",
       "  <tbody>\n",
       "    <tr>\n",
       "      <th>Num_Bank_Accounts</th>\n",
       "      <td>100000.000</td>\n",
       "      <td>17.091</td>\n",
       "      <td>117.405</td>\n",
       "      <td>-1.000</td>\n",
       "      <td>3.000</td>\n",
       "      <td>6.000</td>\n",
       "      <td>7.000</td>\n",
       "      <td>1798.000</td>\n",
       "    </tr>\n",
       "    <tr>\n",
       "      <th>Num_Credit_Card</th>\n",
       "      <td>100000.000</td>\n",
       "      <td>22.474</td>\n",
       "      <td>129.057</td>\n",
       "      <td>0.000</td>\n",
       "      <td>4.000</td>\n",
       "      <td>5.000</td>\n",
       "      <td>7.000</td>\n",
       "      <td>1499.000</td>\n",
       "    </tr>\n",
       "    <tr>\n",
       "      <th>Interest_Rate</th>\n",
       "      <td>100000.000</td>\n",
       "      <td>72.466</td>\n",
       "      <td>466.423</td>\n",
       "      <td>1.000</td>\n",
       "      <td>8.000</td>\n",
       "      <td>13.000</td>\n",
       "      <td>20.000</td>\n",
       "      <td>5797.000</td>\n",
       "    </tr>\n",
       "    <tr>\n",
       "      <th>Delay_from_due_date</th>\n",
       "      <td>100000.000</td>\n",
       "      <td>21.069</td>\n",
       "      <td>14.860</td>\n",
       "      <td>-5.000</td>\n",
       "      <td>10.000</td>\n",
       "      <td>18.000</td>\n",
       "      <td>28.000</td>\n",
       "      <td>67.000</td>\n",
       "    </tr>\n",
       "    <tr>\n",
       "      <th>Num_Credit_Inquiries</th>\n",
       "      <td>98035.000</td>\n",
       "      <td>27.754</td>\n",
       "      <td>193.177</td>\n",
       "      <td>0.000</td>\n",
       "      <td>3.000</td>\n",
       "      <td>6.000</td>\n",
       "      <td>9.000</td>\n",
       "      <td>2597.000</td>\n",
       "    </tr>\n",
       "    <tr>\n",
       "      <th>Credit_Utilization_Ratio</th>\n",
       "      <td>100000.000</td>\n",
       "      <td>32.285</td>\n",
       "      <td>5.117</td>\n",
       "      <td>20.000</td>\n",
       "      <td>28.053</td>\n",
       "      <td>32.306</td>\n",
       "      <td>36.497</td>\n",
       "      <td>50.000</td>\n",
       "    </tr>\n",
       "    <tr>\n",
       "      <th>Total_EMI_per_month</th>\n",
       "      <td>100000.000</td>\n",
       "      <td>1403.118</td>\n",
       "      <td>8306.041</td>\n",
       "      <td>0.000</td>\n",
       "      <td>30.307</td>\n",
       "      <td>69.249</td>\n",
       "      <td>161.224</td>\n",
       "      <td>82331.000</td>\n",
       "    </tr>\n",
       "    <tr>\n",
       "      <th>Credit_Score</th>\n",
       "      <td>100000.000</td>\n",
       "      <td>0.888</td>\n",
       "      <td>0.675</td>\n",
       "      <td>0.000</td>\n",
       "      <td>0.000</td>\n",
       "      <td>1.000</td>\n",
       "      <td>1.000</td>\n",
       "      <td>2.000</td>\n",
       "    </tr>\n",
       "  </tbody>\n",
       "</table>\n",
       "</div>"
      ],
      "text/plain": [
       "                              count     mean      std    min    25%    50%  \\\n",
       "Num_Bank_Accounts        100000.000   17.091  117.405 -1.000  3.000  6.000   \n",
       "Num_Credit_Card          100000.000   22.474  129.057  0.000  4.000  5.000   \n",
       "Interest_Rate            100000.000   72.466  466.423  1.000  8.000 13.000   \n",
       "Delay_from_due_date      100000.000   21.069   14.860 -5.000 10.000 18.000   \n",
       "Num_Credit_Inquiries      98035.000   27.754  193.177  0.000  3.000  6.000   \n",
       "Credit_Utilization_Ratio 100000.000   32.285    5.117 20.000 28.053 32.306   \n",
       "Total_EMI_per_month      100000.000 1403.118 8306.041  0.000 30.307 69.249   \n",
       "Credit_Score             100000.000    0.888    0.675  0.000  0.000  1.000   \n",
       "\n",
       "                             75%       max  \n",
       "Num_Bank_Accounts          7.000  1798.000  \n",
       "Num_Credit_Card            7.000  1499.000  \n",
       "Interest_Rate             20.000  5797.000  \n",
       "Delay_from_due_date       28.000    67.000  \n",
       "Num_Credit_Inquiries       9.000  2597.000  \n",
       "Credit_Utilization_Ratio  36.497    50.000  \n",
       "Total_EMI_per_month      161.224 82331.000  \n",
       "Credit_Score               1.000     2.000  "
      ]
     },
     "execution_count": 16,
     "metadata": {},
     "output_type": "execute_result"
    }
   ],
   "source": [
    "df.describe().T"
   ]
  },
  {
   "cell_type": "code",
   "execution_count": 17,
   "metadata": {},
   "outputs": [
    {
     "data": {
      "text/html": [
       "<div>\n",
       "<style scoped>\n",
       "    .dataframe tbody tr th:only-of-type {\n",
       "        vertical-align: middle;\n",
       "    }\n",
       "\n",
       "    .dataframe tbody tr th {\n",
       "        vertical-align: top;\n",
       "    }\n",
       "\n",
       "    .dataframe thead th {\n",
       "        text-align: right;\n",
       "    }\n",
       "</style>\n",
       "<table border=\"1\" class=\"dataframe\">\n",
       "  <thead>\n",
       "    <tr style=\"text-align: right;\">\n",
       "      <th></th>\n",
       "      <th>count</th>\n",
       "      <th>unique</th>\n",
       "      <th>top</th>\n",
       "      <th>freq</th>\n",
       "    </tr>\n",
       "  </thead>\n",
       "  <tbody>\n",
       "    <tr>\n",
       "      <th>Age</th>\n",
       "      <td>100000</td>\n",
       "      <td>1728</td>\n",
       "      <td>38</td>\n",
       "      <td>2994</td>\n",
       "    </tr>\n",
       "    <tr>\n",
       "      <th>Occupation</th>\n",
       "      <td>92938</td>\n",
       "      <td>15</td>\n",
       "      <td>Lawyer</td>\n",
       "      <td>6575</td>\n",
       "    </tr>\n",
       "    <tr>\n",
       "      <th>Annual_Income</th>\n",
       "      <td>100000</td>\n",
       "      <td>13575</td>\n",
       "      <td>109945.32</td>\n",
       "      <td>16</td>\n",
       "    </tr>\n",
       "    <tr>\n",
       "      <th>Num_of_Loan</th>\n",
       "      <td>100000</td>\n",
       "      <td>414</td>\n",
       "      <td>3</td>\n",
       "      <td>15104</td>\n",
       "    </tr>\n",
       "    <tr>\n",
       "      <th>Num_of_Delayed_Payment</th>\n",
       "      <td>92998</td>\n",
       "      <td>711</td>\n",
       "      <td>19</td>\n",
       "      <td>5481</td>\n",
       "    </tr>\n",
       "    <tr>\n",
       "      <th>Credit_Mix</th>\n",
       "      <td>79805</td>\n",
       "      <td>3</td>\n",
       "      <td>Standard</td>\n",
       "      <td>36479</td>\n",
       "    </tr>\n",
       "    <tr>\n",
       "      <th>Outstanding_Debt</th>\n",
       "      <td>100000</td>\n",
       "      <td>12209</td>\n",
       "      <td>1360.45</td>\n",
       "      <td>24</td>\n",
       "    </tr>\n",
       "    <tr>\n",
       "      <th>Credit_History_Age</th>\n",
       "      <td>90970</td>\n",
       "      <td>404</td>\n",
       "      <td>15 Years and 11 Months</td>\n",
       "      <td>446</td>\n",
       "    </tr>\n",
       "    <tr>\n",
       "      <th>Payment_of_Min_Amount</th>\n",
       "      <td>100000</td>\n",
       "      <td>3</td>\n",
       "      <td>Yes</td>\n",
       "      <td>52326</td>\n",
       "    </tr>\n",
       "    <tr>\n",
       "      <th>Amount_invested_monthly</th>\n",
       "      <td>95521</td>\n",
       "      <td>91049</td>\n",
       "      <td>10000</td>\n",
       "      <td>4305</td>\n",
       "    </tr>\n",
       "    <tr>\n",
       "      <th>Payment_Behaviour</th>\n",
       "      <td>100000</td>\n",
       "      <td>7</td>\n",
       "      <td>LowspentSmallvaluepayments</td>\n",
       "      <td>25513</td>\n",
       "    </tr>\n",
       "    <tr>\n",
       "      <th>Monthly_Balance</th>\n",
       "      <td>98800</td>\n",
       "      <td>98792</td>\n",
       "      <td>-333333333333333333333333333</td>\n",
       "      <td>9</td>\n",
       "    </tr>\n",
       "  </tbody>\n",
       "</table>\n",
       "</div>"
      ],
      "text/plain": [
       "                          count unique                           top   freq\n",
       "Age                      100000   1728                            38   2994\n",
       "Occupation                92938     15                        Lawyer   6575\n",
       "Annual_Income            100000  13575                     109945.32     16\n",
       "Num_of_Loan              100000    414                             3  15104\n",
       "Num_of_Delayed_Payment    92998    711                            19   5481\n",
       "Credit_Mix                79805      3                      Standard  36479\n",
       "Outstanding_Debt         100000  12209                       1360.45     24\n",
       "Credit_History_Age        90970    404        15 Years and 11 Months    446\n",
       "Payment_of_Min_Amount    100000      3                           Yes  52326\n",
       "Amount_invested_monthly   95521  91049                         10000   4305\n",
       "Payment_Behaviour        100000      7    LowspentSmallvaluepayments  25513\n",
       "Monthly_Balance           98800  98792  -333333333333333333333333333      9"
      ]
     },
     "execution_count": 17,
     "metadata": {},
     "output_type": "execute_result"
    }
   ],
   "source": [
    "df.describe(include='object').T"
   ]
  },
  {
   "cell_type": "markdown",
   "metadata": {},
   "source": [
    "### Find and replace values"
   ]
  },
  {
   "cell_type": "code",
   "execution_count": 19,
   "metadata": {},
   "outputs": [
    {
     "data": {
      "text/plain": [
       "1728"
      ]
     },
     "execution_count": 19,
     "metadata": {},
     "output_type": "execute_result"
    }
   ],
   "source": [
    "df.Age.nunique()"
   ]
  },
  {
   "cell_type": "code",
   "execution_count": 20,
   "metadata": {},
   "outputs": [
    {
     "data": {
      "text/plain": [
       "Age\n",
       "38    2994\n",
       "28    2968\n",
       "31    2955\n",
       "26    2945\n",
       "32    2884\n",
       "36    2868\n",
       "35    2866\n",
       "25    2861\n",
       "27    2859\n",
       "39    2846\n",
       "Name: count, dtype: int64"
      ]
     },
     "execution_count": 20,
     "metadata": {},
     "output_type": "execute_result"
    }
   ],
   "source": [
    "df.Age.value_counts(ascending=False).head(10)"
   ]
  },
  {
   "cell_type": "code",
   "execution_count": 21,
   "metadata": {},
   "outputs": [
    {
     "name": "stdout",
     "output_type": "stream",
     "text": [
      "{'-'}\n"
     ]
    }
   ],
   "source": [
    "def non_numeric_values(df, column_name):\n",
    "    # Define a regular expression pattern to match numeric characters\n",
    "    pattern = r'\\D+'\n",
    "    \n",
    "    # Find non-numeric values using regular expression\n",
    "    non_numeric_values = df[column_name].astype(str).str.findall(pattern)\n",
    "    \n",
    "    # Flatten the list of lists\n",
    "    non_numeric_values = [item for sublist in non_numeric_values for item in sublist]\n",
    "    \n",
    "    # Use set to ensure uniqueness\n",
    "    unique_non_numeric_values = set(non_numeric_values)\n",
    "    \n",
    "    return unique_non_numeric_values\n",
    "\n",
    "unique_non_numeric = non_numeric_values(df, 'Age')\n",
    "print(unique_non_numeric)\n"
   ]
  },
  {
   "cell_type": "code",
   "execution_count": 22,
   "metadata": {},
   "outputs": [
    {
     "data": {
      "text/plain": [
       "array([-500])"
      ]
     },
     "execution_count": 22,
     "metadata": {},
     "output_type": "execute_result"
    }
   ],
   "source": [
    "df['Age'] = pd.to_numeric(df['Age'], errors='coerce')\n",
    "df[df['Age'] < 0]['Age'].unique()"
   ]
  },
  {
   "cell_type": "code",
   "execution_count": 23,
   "metadata": {},
   "outputs": [
    {
     "data": {
      "text/plain": [
       "array([7580,  181,  995, ..., 4808, 2263, 1342])"
      ]
     },
     "execution_count": 23,
     "metadata": {},
     "output_type": "execute_result"
    }
   ],
   "source": [
    "df[df['Age'] > 75]['Age'].unique()"
   ]
  },
  {
   "cell_type": "code",
   "execution_count": 24,
   "metadata": {},
   "outputs": [],
   "source": [
    "df.drop(df[df['Age'] > 100].index, inplace = True)\n",
    "df.drop(df[df['Age'] < 0].index, inplace = True)"
   ]
  },
  {
   "cell_type": "code",
   "execution_count": 25,
   "metadata": {},
   "outputs": [
    {
     "data": {
      "text/plain": [
       "(97224, 20)"
      ]
     },
     "execution_count": 25,
     "metadata": {},
     "output_type": "execute_result"
    }
   ],
   "source": [
    "df.shape"
   ]
  },
  {
   "cell_type": "code",
   "execution_count": 26,
   "metadata": {},
   "outputs": [
    {
     "data": {
      "text/plain": [
       "Occupation\n",
       "Lawyer          6389\n",
       "Architect       6175\n",
       "Engineer        6172\n",
       "Scientist       6113\n",
       "Accountant      6110\n",
       "Mechanic        6099\n",
       "MediaManager    6068\n",
       "Teacher         6049\n",
       "Developer       6031\n",
       "Entrepreneur    6015\n",
       "Doctor          5916\n",
       "Journalist      5906\n",
       "Manager         5807\n",
       "Musician        5760\n",
       "Writer          5741\n",
       "Name: count, dtype: int64"
      ]
     },
     "execution_count": 26,
     "metadata": {},
     "output_type": "execute_result"
    }
   ],
   "source": [
    "df.Occupation.value_counts()"
   ]
  },
  {
   "cell_type": "code",
   "execution_count": 27,
   "metadata": {},
   "outputs": [
    {
     "data": {
      "text/plain": [
       "6873"
      ]
     },
     "execution_count": 27,
     "metadata": {},
     "output_type": "execute_result"
    }
   ],
   "source": [
    "df.Occupation.isna().sum()"
   ]
  },
  {
   "cell_type": "code",
   "execution_count": 28,
   "metadata": {},
   "outputs": [],
   "source": [
    "df.loc[pd.isna(df['Occupation']), 'Occupation'] = 'Other'"
   ]
  },
  {
   "cell_type": "code",
   "execution_count": 29,
   "metadata": {},
   "outputs": [
    {
     "data": {
      "text/plain": [
       "{'-'}"
      ]
     },
     "execution_count": 29,
     "metadata": {},
     "output_type": "execute_result"
    }
   ],
   "source": [
    "non_numeric_values(df, 'Num_Bank_Accounts')"
   ]
  },
  {
   "cell_type": "code",
   "execution_count": 30,
   "metadata": {},
   "outputs": [
    {
     "data": {
      "text/plain": [
       "21"
      ]
     },
     "execution_count": 30,
     "metadata": {},
     "output_type": "execute_result"
    }
   ],
   "source": [
    "df[df.Num_Bank_Accounts < 0]['Num_Bank_Accounts'].count()"
   ]
  },
  {
   "cell_type": "code",
   "execution_count": 31,
   "metadata": {},
   "outputs": [],
   "source": [
    "df.drop(df[df['Num_Bank_Accounts'] < 0].index, inplace=True)"
   ]
  },
  {
   "cell_type": "code",
   "execution_count": 32,
   "metadata": {},
   "outputs": [
    {
     "data": {
      "text/plain": [
       "{'-'}"
      ]
     },
     "execution_count": 32,
     "metadata": {},
     "output_type": "execute_result"
    }
   ],
   "source": [
    "non_numeric_values(df, 'Num_of_Loan')"
   ]
  },
  {
   "cell_type": "code",
   "execution_count": 33,
   "metadata": {},
   "outputs": [
    {
     "data": {
      "text/plain": [
       "array([-100])"
      ]
     },
     "execution_count": 33,
     "metadata": {},
     "output_type": "execute_result"
    }
   ],
   "source": [
    "df['Num_of_Loan'] = pd.to_numeric(df['Num_of_Loan'], errors='coerce')\n",
    "df[df['Num_of_Loan'] < 0]['Num_of_Loan'].unique()"
   ]
  },
  {
   "cell_type": "code",
   "execution_count": 34,
   "metadata": {},
   "outputs": [
    {
     "data": {
      "text/plain": [
       "array([   4,    1,    3,  967, -100,    0,    2,    7,    5,    6,    8,\n",
       "          9, 1464,  622,  352, 1017,  945,  146,  563,  341,  720, 1485,\n",
       "         49,  737, 1106,  466,  728,  313,  597,  119,  663,  640,   92,\n",
       "       1019,  501, 1302,   39,  716,  848,  931, 1214,  186,  424, 1001,\n",
       "       1110, 1152,  457, 1433, 1187,   52, 1480, 1047, 1035, 1347,   33,\n",
       "        193,  699,  329, 1451,  484,  649,  995,  545,  684, 1135, 1094,\n",
       "       1204,  654,   58,  348,  614, 1363,  323, 1406, 1348,  430,  153,\n",
       "       1461,  905, 1312, 1424, 1154,   95, 1353, 1228,  819, 1006,  795,\n",
       "        359, 1209,  590,  696, 1185, 1465,  911,   70,  816, 1369,  143,\n",
       "       1416,  455,   55, 1096, 1474,  420,  904,   89, 1259,  527, 1241,\n",
       "        449,  983,  418,  319,   23,  238,  638,  138,  235,  280, 1070,\n",
       "       1484,  274,  494, 1459,  404, 1354, 1495, 1391,  601, 1313, 1319,\n",
       "        898,  231,  752,  174,  961, 1046,  834,  284,  438,  288, 1463,\n",
       "       1151,  719,  198, 1015,  855,  841,  392, 1444,  103, 1320,  745,\n",
       "        172,  252,  630,  241,   31,  405, 1217, 1030, 1257,  137,  157,\n",
       "        164, 1088, 1236,  777, 1048,  613,  330,  321,  952,  939,  562,\n",
       "       1202,  302,  943,  394,  955, 1318,  936,  781,  100, 1329, 1365,\n",
       "        860,  217,  191,   32,  282,  351, 1387,  757,  416,  833,  292,\n",
       "       1225, 1227,  639,  859,  243,  267,  510,  332,  996,  311,  492,\n",
       "        820,  336,  123,  540,  131, 1311, 1441,  895,  891,   50,  940,\n",
       "        935,  596,   29, 1182, 1129, 1014,  251,  365, 1447,  742, 1085,\n",
       "        148,  462,  832,  881, 1412,  785, 1127,  910,  538,  999,  733,\n",
       "        101,  237,   87,  659,  633,  387,  447,  629,  831, 1384,  621,\n",
       "       1419,  289,  285, 1393, 1131, 1359, 1482, 1189, 1294,  201,  579,\n",
       "        814,  141,  581, 1171,  295,  290, 1181,  433,  679, 1040, 1054,\n",
       "       1023, 1077, 1457, 1150,  701, 1382,  889,  437,  372, 1159,  868,\n",
       "         19, 1297,  227,  190,  809, 1216, 1074,  571,  520, 1274, 1340,\n",
       "        991,  316,  697,  926,  873, 1002,  378,   65,  875,  867,  548,\n",
       "        652, 1372,  606, 1036, 1300,   17, 1178,  802, 1219, 1271, 1137,\n",
       "       1496,  439,  196,  636,  192,  228, 1053,  229,  753, 1296,  773,\n",
       "       1371,  254,  863,  464,  515, 1160, 1289, 1298,  799,  182,  574,\n",
       "        242,  415,  869,   54, 1265,  656,  275,  778,  208,  147,  350,\n",
       "        507,  463,  497,  927,  653,  662,  529,  635, 1027,  897, 1345,\n",
       "        924, 1279,  546, 1210,  526,  300, 1103,  504,  136, 1400,   78,\n",
       "        686, 1091,  344,  215,   84,  628, 1470,  968, 1478,   83, 1196,\n",
       "       1307, 1132, 1008,  917,  657,   56,   18,   41,  801,  661,  978,\n",
       "        216,  349,  966])"
      ]
     },
     "execution_count": 34,
     "metadata": {},
     "output_type": "execute_result"
    }
   ],
   "source": [
    "df['Num_of_Loan'].unique()"
   ]
  },
  {
   "cell_type": "code",
   "execution_count": 35,
   "metadata": {},
   "outputs": [
    {
     "data": {
      "text/plain": [
       "3770"
      ]
     },
     "execution_count": 35,
     "metadata": {},
     "output_type": "execute_result"
    }
   ],
   "source": [
    "df[df['Num_of_Loan'] < 0]['Num_of_Loan'].count() # cannot be negative, dropping them"
   ]
  },
  {
   "cell_type": "code",
   "execution_count": 36,
   "metadata": {},
   "outputs": [
    {
     "data": {
      "text/plain": [
       "(93433, 20)"
      ]
     },
     "execution_count": 36,
     "metadata": {},
     "output_type": "execute_result"
    }
   ],
   "source": [
    "df.drop(df[df['Num_of_Loan'] < 0].index, inplace=True)\n",
    "df.shape"
   ]
  },
  {
   "cell_type": "code",
   "execution_count": 37,
   "metadata": {},
   "outputs": [
    {
     "data": {
      "text/plain": [
       "{'-'}"
      ]
     },
     "execution_count": 37,
     "metadata": {},
     "output_type": "execute_result"
    }
   ],
   "source": [
    "non_numeric_values(df, 'Delay_from_due_date')"
   ]
  },
  {
   "cell_type": "code",
   "execution_count": 38,
   "metadata": {},
   "outputs": [
    {
     "data": {
      "text/plain": [
       "array([-1, -2, -3, -5, -4])"
      ]
     },
     "execution_count": 38,
     "metadata": {},
     "output_type": "execute_result"
    }
   ],
   "source": [
    "df[df['Delay_from_due_date'] < 0]['Delay_from_due_date'].unique()  # not possible"
   ]
  },
  {
   "cell_type": "code",
   "execution_count": 39,
   "metadata": {},
   "outputs": [
    {
     "data": {
      "text/plain": [
       "398"
      ]
     },
     "execution_count": 39,
     "metadata": {},
     "output_type": "execute_result"
    }
   ],
   "source": [
    "df['Num_of_Loan'].nunique()"
   ]
  },
  {
   "cell_type": "code",
   "execution_count": 40,
   "metadata": {},
   "outputs": [
    {
     "data": {
      "text/plain": [
       "547"
      ]
     },
     "execution_count": 40,
     "metadata": {},
     "output_type": "execute_result"
    }
   ],
   "source": [
    "df[df['Delay_from_due_date'] < 0]['Delay_from_due_date'].count()"
   ]
  },
  {
   "cell_type": "code",
   "execution_count": 41,
   "metadata": {},
   "outputs": [
    {
     "data": {
      "text/plain": [
       "(92886, 20)"
      ]
     },
     "execution_count": 41,
     "metadata": {},
     "output_type": "execute_result"
    }
   ],
   "source": [
    "df.drop(df[df['Delay_from_due_date'] < 0].index, inplace=True)\n",
    "df.shape"
   ]
  },
  {
   "cell_type": "code",
   "execution_count": 42,
   "metadata": {},
   "outputs": [
    {
     "data": {
      "text/plain": [
       "{'-', 'nan'}"
      ]
     },
     "execution_count": 42,
     "metadata": {},
     "output_type": "execute_result"
    }
   ],
   "source": [
    "non_numeric_values(df, 'Num_of_Delayed_Payment')"
   ]
  },
  {
   "cell_type": "code",
   "execution_count": 43,
   "metadata": {},
   "outputs": [
    {
     "data": {
      "text/plain": [
       "array([-1., -3., -2.])"
      ]
     },
     "execution_count": 43,
     "metadata": {},
     "output_type": "execute_result"
    }
   ],
   "source": [
    "df['Num_of_Delayed_Payment'] = pd.to_numeric(df['Num_of_Delayed_Payment'], errors='coerce')\n",
    "df[df['Num_of_Delayed_Payment'] < 0]['Num_of_Delayed_Payment'].unique()"
   ]
  },
  {
   "cell_type": "code",
   "execution_count": 44,
   "metadata": {},
   "outputs": [
    {
     "data": {
      "text/plain": [
       "592"
      ]
     },
     "execution_count": 44,
     "metadata": {},
     "output_type": "execute_result"
    }
   ],
   "source": [
    "df[df['Num_of_Delayed_Payment'] < 0]['Num_of_Delayed_Payment'].count()"
   ]
  },
  {
   "cell_type": "code",
   "execution_count": 45,
   "metadata": {},
   "outputs": [
    {
     "data": {
      "text/plain": [
       "(92294, 20)"
      ]
     },
     "execution_count": 45,
     "metadata": {},
     "output_type": "execute_result"
    }
   ],
   "source": [
    "df.drop(df[df['Num_of_Delayed_Payment'] < 0].index, inplace=True)\n",
    "df.shape"
   ]
  },
  {
   "cell_type": "code",
   "execution_count": 46,
   "metadata": {},
   "outputs": [
    {
     "data": {
      "text/plain": [
       "Num_of_Delayed_Payment\n",
       "17.000    5080\n",
       "19.000    5065\n",
       "16.000    4951\n",
       "10.000    4941\n",
       "15.000    4888\n",
       "18.000    4876\n",
       "20.000    4761\n",
       "12.000    4717\n",
       "9.000     4617\n",
       "8.000     4518\n",
       "Name: count, dtype: int64"
      ]
     },
     "execution_count": 46,
     "metadata": {},
     "output_type": "execute_result"
    }
   ],
   "source": [
    "df['Num_of_Delayed_Payment'].value_counts().head(10)"
   ]
  },
  {
   "cell_type": "code",
   "execution_count": 47,
   "metadata": {},
   "outputs": [],
   "source": [
    "def knn_impute_column(df, column_name, n_neighbors=5):\n",
    "    \"\"\"\n",
    "    Fill missing values in a specific column using KNN imputation.\n",
    "\n",
    "    Parameters:\n",
    "    df (DataFrame): The DataFrame containing the column to be imputed.\n",
    "    column_name (str): The name of the column to be imputed.\n",
    "    n_neighbors (int): Number of neighbors to consider for imputation. Default is 5.\n",
    "\n",
    "    Returns:\n",
    "    DataFrame: The DataFrame with missing values in the specified column imputed.\n",
    "    \"\"\"\n",
    "\n",
    "    # Extract the column to be imputed\n",
    "    column_to_impute = df[[column_name]]\n",
    "\n",
    "    # Create an instance of the KNNImputer class\n",
    "    imputer = KNNImputer(n_neighbors=n_neighbors)\n",
    "\n",
    "    # Fit and transform the imputer to fill missing values in the column\n",
    "    column_imputed = imputer.fit_transform(column_to_impute)\n",
    "\n",
    "    # Replace the original column with the imputed values\n",
    "    df[column_name] = column_imputed\n",
    "\n",
    "    return df"
   ]
  },
  {
   "cell_type": "code",
   "execution_count": 48,
   "metadata": {},
   "outputs": [],
   "source": [
    "df = knn_impute_column(df, 'Num_of_Delayed_Payment')\n",
    "\n",
    "# to specify the number of neighbors:\n",
    "# df = knn_impute_column(df, 'Num_of_Delayed_Payment', n_neighbors=10)"
   ]
  },
  {
   "cell_type": "code",
   "execution_count": 49,
   "metadata": {},
   "outputs": [
    {
     "data": {
      "text/plain": [
       "0"
      ]
     },
     "execution_count": 49,
     "metadata": {},
     "output_type": "execute_result"
    }
   ],
   "source": [
    "df['Num_of_Delayed_Payment'].isna().sum()"
   ]
  },
  {
   "cell_type": "code",
   "execution_count": 50,
   "metadata": {},
   "outputs": [
    {
     "data": {
      "text/plain": [
       "{'.', 'nan'}"
      ]
     },
     "execution_count": 50,
     "metadata": {},
     "output_type": "execute_result"
    }
   ],
   "source": [
    "non_numeric_values(df, 'Num_Credit_Inquiries')"
   ]
  },
  {
   "cell_type": "code",
   "execution_count": 51,
   "metadata": {},
   "outputs": [
    {
     "data": {
      "text/plain": [
       "array([], dtype=float64)"
      ]
     },
     "execution_count": 51,
     "metadata": {},
     "output_type": "execute_result"
    }
   ],
   "source": [
    "df[df['Num_Credit_Inquiries'] < 0]['Num_Credit_Inquiries'].unique()"
   ]
  },
  {
   "cell_type": "code",
   "execution_count": 52,
   "metadata": {},
   "outputs": [
    {
     "data": {
      "text/plain": [
       "1810"
      ]
     },
     "execution_count": 52,
     "metadata": {},
     "output_type": "execute_result"
    }
   ],
   "source": [
    "df['Num_Credit_Inquiries'].isna().sum()"
   ]
  },
  {
   "cell_type": "code",
   "execution_count": 53,
   "metadata": {},
   "outputs": [
    {
     "data": {
      "text/plain": [
       "1160"
      ]
     },
     "execution_count": 53,
     "metadata": {},
     "output_type": "execute_result"
    }
   ],
   "source": [
    "df['Num_Credit_Inquiries'].nunique()"
   ]
  },
  {
   "cell_type": "code",
   "execution_count": 54,
   "metadata": {},
   "outputs": [
    {
     "data": {
      "text/plain": [
       "Num_Credit_Inquiries\n",
       "4.000    10314\n",
       "3.000     8103\n",
       "6.000     7560\n",
       "7.000     7516\n",
       "8.000     7311\n",
       "2.000     7290\n",
       "1.000     6889\n",
       "0.000     6364\n",
       "5.000     5277\n",
       "9.000     4932\n",
       "Name: count, dtype: int64"
      ]
     },
     "execution_count": 54,
     "metadata": {},
     "output_type": "execute_result"
    }
   ],
   "source": [
    "df['Num_Credit_Inquiries'].value_counts().head(10)"
   ]
  },
  {
   "cell_type": "code",
   "execution_count": 55,
   "metadata": {},
   "outputs": [
    {
     "data": {
      "text/plain": [
       "0"
      ]
     },
     "execution_count": 55,
     "metadata": {},
     "output_type": "execute_result"
    }
   ],
   "source": [
    "df = knn_impute_column(df, 'Num_Credit_Inquiries')\n",
    "df['Num_Credit_Inquiries'].isna().sum()"
   ]
  },
  {
   "cell_type": "code",
   "execution_count": 56,
   "metadata": {},
   "outputs": [
    {
     "data": {
      "text/plain": [
       "Credit_Mix\n",
       "Standard    34131\n",
       "Good        21741\n",
       "Bad         17755\n",
       "Name: count, dtype: int64"
      ]
     },
     "execution_count": 56,
     "metadata": {},
     "output_type": "execute_result"
    }
   ],
   "source": [
    "df.Credit_Mix.value_counts()"
   ]
  },
  {
   "cell_type": "code",
   "execution_count": 57,
   "metadata": {},
   "outputs": [
    {
     "data": {
      "text/plain": [
       "18667"
      ]
     },
     "execution_count": 57,
     "metadata": {},
     "output_type": "execute_result"
    }
   ],
   "source": [
    "df.Credit_Mix.isna().sum()"
   ]
  },
  {
   "cell_type": "code",
   "execution_count": 58,
   "metadata": {},
   "outputs": [
    {
     "data": {
      "text/plain": [
       "0        Unknown\n",
       "3           Good\n",
       "4           Good\n",
       "5           Good\n",
       "6           Good\n",
       "          ...   \n",
       "99995    Unknown\n",
       "99996    Unknown\n",
       "99997       Good\n",
       "99998       Good\n",
       "99999       Good\n",
       "Name: Credit_Mix, Length: 92294, dtype: object"
      ]
     },
     "execution_count": 58,
     "metadata": {},
     "output_type": "execute_result"
    }
   ],
   "source": [
    "# Fill null values in 'Credit_Mix' with 'Unknown'\n",
    "df['Credit_Mix'].fillna('Unknown', inplace=True)\n",
    "\n",
    "df['Credit_Mix'].astype('object')"
   ]
  },
  {
   "cell_type": "code",
   "execution_count": 59,
   "metadata": {},
   "outputs": [
    {
     "data": {
      "text/plain": [
       "Credit_Mix\n",
       "Standard    34131\n",
       "Good        21741\n",
       "Unknown     18667\n",
       "Bad         17755\n",
       "Name: count, dtype: int64"
      ]
     },
     "execution_count": 59,
     "metadata": {},
     "output_type": "execute_result"
    }
   ],
   "source": [
    "df.Credit_Mix.value_counts()"
   ]
  },
  {
   "cell_type": "code",
   "execution_count": 60,
   "metadata": {},
   "outputs": [
    {
     "data": {
      "text/plain": [
       "Credit_History_Age\n",
       "15 Years and 11 Months    414\n",
       "19 Years and 5 Months     408\n",
       "19 Years and 3 Months     407\n",
       "17 Years and 9 Months     407\n",
       "15 Years and 9 Months     406\n",
       "                         ... \n",
       "0 Years and 3 Months       19\n",
       "33 Years and 7 Months      14\n",
       "0 Years and 2 Months       13\n",
       "33 Years and 8 Months      10\n",
       "0 Years and 1 Months        1\n",
       "Name: count, Length: 404, dtype: int64"
      ]
     },
     "execution_count": 60,
     "metadata": {},
     "output_type": "execute_result"
    }
   ],
   "source": [
    "df['Credit_History_Age'].value_counts()"
   ]
  },
  {
   "cell_type": "code",
   "execution_count": 61,
   "metadata": {},
   "outputs": [
    {
     "data": {
      "text/plain": [
       "8356"
      ]
     },
     "execution_count": 61,
     "metadata": {},
     "output_type": "execute_result"
    }
   ],
   "source": [
    "df['Credit_History_Age'].isna().sum()"
   ]
  },
  {
   "cell_type": "code",
   "execution_count": 62,
   "metadata": {},
   "outputs": [],
   "source": [
    "# Group by 'Credit_Mix' and calculate mode for 'Credit_History_Age' within each group\n",
    "mode_by_credit_mix = df.groupby('Credit_Mix')['Credit_History_Age'].transform(lambda x: x.mode()[0])\n",
    "\n",
    "# Fill NaN values in 'Credit_History_Age' with the mode for each group\n",
    "df['Credit_History_Age'].fillna(mode_by_credit_mix, inplace=True)"
   ]
  },
  {
   "cell_type": "code",
   "execution_count": 63,
   "metadata": {},
   "outputs": [
    {
     "data": {
      "text/plain": [
       "0"
      ]
     },
     "execution_count": 63,
     "metadata": {},
     "output_type": "execute_result"
    }
   ],
   "source": [
    "df['Credit_History_Age'].isna().sum()"
   ]
  },
  {
   "cell_type": "code",
   "execution_count": 64,
   "metadata": {},
   "outputs": [
    {
     "data": {
      "text/plain": [
       "Credit_History_Age\n",
       "19 Years and 5 Months     3525\n",
       "30 Years and 2 Months     2203\n",
       "15 Years and 9 Months     2102\n",
       "8 Years and 10 Months     1828\n",
       "15 Years and 11 Months     414\n",
       "                          ... \n",
       "0 Years and 3 Months        19\n",
       "33 Years and 7 Months       14\n",
       "0 Years and 2 Months        13\n",
       "33 Years and 8 Months       10\n",
       "0 Years and 1 Months         1\n",
       "Name: count, Length: 404, dtype: int64"
      ]
     },
     "execution_count": 64,
     "metadata": {},
     "output_type": "execute_result"
    }
   ],
   "source": [
    "df['Credit_History_Age'].value_counts()"
   ]
  },
  {
   "cell_type": "code",
   "execution_count": 65,
   "metadata": {},
   "outputs": [
    {
     "data": {
      "text/html": [
       "<div>\n",
       "<style scoped>\n",
       "    .dataframe tbody tr th:only-of-type {\n",
       "        vertical-align: middle;\n",
       "    }\n",
       "\n",
       "    .dataframe tbody tr th {\n",
       "        vertical-align: top;\n",
       "    }\n",
       "\n",
       "    .dataframe thead th {\n",
       "        text-align: right;\n",
       "    }\n",
       "</style>\n",
       "<table border=\"1\" class=\"dataframe\">\n",
       "  <thead>\n",
       "    <tr style=\"text-align: right;\">\n",
       "      <th></th>\n",
       "      <th>Age</th>\n",
       "      <th>Occupation</th>\n",
       "      <th>Annual_Income</th>\n",
       "      <th>Num_Bank_Accounts</th>\n",
       "      <th>Num_Credit_Card</th>\n",
       "      <th>Interest_Rate</th>\n",
       "      <th>Num_of_Loan</th>\n",
       "      <th>Delay_from_due_date</th>\n",
       "      <th>Num_of_Delayed_Payment</th>\n",
       "      <th>Num_Credit_Inquiries</th>\n",
       "      <th>...</th>\n",
       "      <th>Outstanding_Debt</th>\n",
       "      <th>Credit_Utilization_Ratio</th>\n",
       "      <th>Payment_of_Min_Amount</th>\n",
       "      <th>Total_EMI_per_month</th>\n",
       "      <th>Amount_invested_monthly</th>\n",
       "      <th>Payment_Behaviour</th>\n",
       "      <th>Monthly_Balance</th>\n",
       "      <th>Credit_Score</th>\n",
       "      <th>Credit_History_Years</th>\n",
       "      <th>Credit_History_Months</th>\n",
       "    </tr>\n",
       "  </thead>\n",
       "  <tbody>\n",
       "    <tr>\n",
       "      <th>0</th>\n",
       "      <td>23</td>\n",
       "      <td>Scientist</td>\n",
       "      <td>19114.12</td>\n",
       "      <td>3</td>\n",
       "      <td>4</td>\n",
       "      <td>3</td>\n",
       "      <td>4</td>\n",
       "      <td>3</td>\n",
       "      <td>7.000</td>\n",
       "      <td>4.000</td>\n",
       "      <td>...</td>\n",
       "      <td>809.98</td>\n",
       "      <td>26.823</td>\n",
       "      <td>No</td>\n",
       "      <td>49.575</td>\n",
       "      <td>80.41529543900253</td>\n",
       "      <td>HighspentSmallvaluepayments</td>\n",
       "      <td>312.49408867943663</td>\n",
       "      <td>2</td>\n",
       "      <td>22</td>\n",
       "      <td>1</td>\n",
       "    </tr>\n",
       "    <tr>\n",
       "      <th>3</th>\n",
       "      <td>23</td>\n",
       "      <td>Scientist</td>\n",
       "      <td>19114.12</td>\n",
       "      <td>3</td>\n",
       "      <td>4</td>\n",
       "      <td>3</td>\n",
       "      <td>4</td>\n",
       "      <td>5</td>\n",
       "      <td>4.000</td>\n",
       "      <td>4.000</td>\n",
       "      <td>...</td>\n",
       "      <td>809.98</td>\n",
       "      <td>31.378</td>\n",
       "      <td>No</td>\n",
       "      <td>49.575</td>\n",
       "      <td>199.4580743910713</td>\n",
       "      <td>LowspentSmallvaluepayments</td>\n",
       "      <td>223.45130972736786</td>\n",
       "      <td>2</td>\n",
       "      <td>22</td>\n",
       "      <td>4</td>\n",
       "    </tr>\n",
       "    <tr>\n",
       "      <th>4</th>\n",
       "      <td>23</td>\n",
       "      <td>Scientist</td>\n",
       "      <td>19114.12</td>\n",
       "      <td>3</td>\n",
       "      <td>4</td>\n",
       "      <td>3</td>\n",
       "      <td>4</td>\n",
       "      <td>6</td>\n",
       "      <td>31.203</td>\n",
       "      <td>4.000</td>\n",
       "      <td>...</td>\n",
       "      <td>809.98</td>\n",
       "      <td>24.797</td>\n",
       "      <td>No</td>\n",
       "      <td>49.575</td>\n",
       "      <td>41.420153086217326</td>\n",
       "      <td>HighspentMediumvaluepayments</td>\n",
       "      <td>341.48923103222177</td>\n",
       "      <td>2</td>\n",
       "      <td>22</td>\n",
       "      <td>5</td>\n",
       "    </tr>\n",
       "    <tr>\n",
       "      <th>5</th>\n",
       "      <td>23</td>\n",
       "      <td>Scientist</td>\n",
       "      <td>19114.12</td>\n",
       "      <td>3</td>\n",
       "      <td>4</td>\n",
       "      <td>3</td>\n",
       "      <td>4</td>\n",
       "      <td>8</td>\n",
       "      <td>4.000</td>\n",
       "      <td>4.000</td>\n",
       "      <td>...</td>\n",
       "      <td>809.98</td>\n",
       "      <td>27.262</td>\n",
       "      <td>No</td>\n",
       "      <td>49.575</td>\n",
       "      <td>62.430172331195294</td>\n",
       "      <td>!@9#%8</td>\n",
       "      <td>340.4792117872438</td>\n",
       "      <td>2</td>\n",
       "      <td>22</td>\n",
       "      <td>6</td>\n",
       "    </tr>\n",
       "    <tr>\n",
       "      <th>6</th>\n",
       "      <td>23</td>\n",
       "      <td>Scientist</td>\n",
       "      <td>19114.12</td>\n",
       "      <td>3</td>\n",
       "      <td>4</td>\n",
       "      <td>3</td>\n",
       "      <td>4</td>\n",
       "      <td>3</td>\n",
       "      <td>8.000</td>\n",
       "      <td>4.000</td>\n",
       "      <td>...</td>\n",
       "      <td>809.98</td>\n",
       "      <td>22.538</td>\n",
       "      <td>No</td>\n",
       "      <td>49.575</td>\n",
       "      <td>178.3440674122349</td>\n",
       "      <td>LowspentSmallvaluepayments</td>\n",
       "      <td>244.5653167062043</td>\n",
       "      <td>2</td>\n",
       "      <td>22</td>\n",
       "      <td>7</td>\n",
       "    </tr>\n",
       "  </tbody>\n",
       "</table>\n",
       "<p>5 rows × 21 columns</p>\n",
       "</div>"
      ],
      "text/plain": [
       "   Age Occupation Annual_Income  Num_Bank_Accounts  Num_Credit_Card  \\\n",
       "0   23  Scientist      19114.12                  3                4   \n",
       "3   23  Scientist      19114.12                  3                4   \n",
       "4   23  Scientist      19114.12                  3                4   \n",
       "5   23  Scientist      19114.12                  3                4   \n",
       "6   23  Scientist      19114.12                  3                4   \n",
       "\n",
       "   Interest_Rate  Num_of_Loan  Delay_from_due_date  Num_of_Delayed_Payment  \\\n",
       "0              3            4                    3                   7.000   \n",
       "3              3            4                    5                   4.000   \n",
       "4              3            4                    6                  31.203   \n",
       "5              3            4                    8                   4.000   \n",
       "6              3            4                    3                   8.000   \n",
       "\n",
       "   Num_Credit_Inquiries  ... Outstanding_Debt Credit_Utilization_Ratio  \\\n",
       "0                 4.000  ...           809.98                   26.823   \n",
       "3                 4.000  ...           809.98                   31.378   \n",
       "4                 4.000  ...           809.98                   24.797   \n",
       "5                 4.000  ...           809.98                   27.262   \n",
       "6                 4.000  ...           809.98                   22.538   \n",
       "\n",
       "   Payment_of_Min_Amount Total_EMI_per_month  Amount_invested_monthly  \\\n",
       "0                     No              49.575        80.41529543900253   \n",
       "3                     No              49.575        199.4580743910713   \n",
       "4                     No              49.575       41.420153086217326   \n",
       "5                     No              49.575       62.430172331195294   \n",
       "6                     No              49.575        178.3440674122349   \n",
       "\n",
       "              Payment_Behaviour     Monthly_Balance Credit_Score  \\\n",
       "0   HighspentSmallvaluepayments  312.49408867943663            2   \n",
       "3    LowspentSmallvaluepayments  223.45130972736786            2   \n",
       "4  HighspentMediumvaluepayments  341.48923103222177            2   \n",
       "5                        !@9#%8   340.4792117872438            2   \n",
       "6    LowspentSmallvaluepayments   244.5653167062043            2   \n",
       "\n",
       "   Credit_History_Years  Credit_History_Months  \n",
       "0                    22                      1  \n",
       "3                    22                      4  \n",
       "4                    22                      5  \n",
       "5                    22                      6  \n",
       "6                    22                      7  \n",
       "\n",
       "[5 rows x 21 columns]"
      ]
     },
     "execution_count": 65,
     "metadata": {},
     "output_type": "execute_result"
    }
   ],
   "source": [
    "# Extract years and months from 'Credit_History_Age' column\n",
    "df['Credit_History_Years'] = df['Credit_History_Age'].str.extract(r'(\\d+) Years').astype(int)\n",
    "df['Credit_History_Months'] = df['Credit_History_Age'].str.extract(r'(\\d+) Months').astype(int)\n",
    "\n",
    "df.drop(columns=['Credit_History_Age'], inplace=True)\n",
    "\n",
    "df.head()"
   ]
  },
  {
   "cell_type": "code",
   "execution_count": 66,
   "metadata": {},
   "outputs": [
    {
     "data": {
      "text/html": [
       "<div>\n",
       "<style scoped>\n",
       "    .dataframe tbody tr th:only-of-type {\n",
       "        vertical-align: middle;\n",
       "    }\n",
       "\n",
       "    .dataframe tbody tr th {\n",
       "        vertical-align: top;\n",
       "    }\n",
       "\n",
       "    .dataframe thead th {\n",
       "        text-align: right;\n",
       "    }\n",
       "</style>\n",
       "<table border=\"1\" class=\"dataframe\">\n",
       "  <thead>\n",
       "    <tr style=\"text-align: right;\">\n",
       "      <th></th>\n",
       "      <th>Age</th>\n",
       "      <th>Occupation</th>\n",
       "      <th>Annual_Income</th>\n",
       "      <th>Num_Bank_Accounts</th>\n",
       "      <th>Num_Credit_Card</th>\n",
       "      <th>Interest_Rate</th>\n",
       "      <th>Num_of_Loan</th>\n",
       "      <th>Delay_from_due_date</th>\n",
       "      <th>Num_of_Delayed_Payment</th>\n",
       "      <th>Num_Credit_Inquiries</th>\n",
       "      <th>Credit_Mix</th>\n",
       "      <th>Outstanding_Debt</th>\n",
       "      <th>Credit_Utilization_Ratio</th>\n",
       "      <th>Payment_of_Min_Amount</th>\n",
       "      <th>Total_EMI_per_month</th>\n",
       "      <th>Amount_invested_monthly</th>\n",
       "      <th>Payment_Behaviour</th>\n",
       "      <th>Monthly_Balance</th>\n",
       "      <th>Credit_Score</th>\n",
       "      <th>Credit_History_Age_Months</th>\n",
       "    </tr>\n",
       "  </thead>\n",
       "  <tbody>\n",
       "    <tr>\n",
       "      <th>0</th>\n",
       "      <td>23</td>\n",
       "      <td>Scientist</td>\n",
       "      <td>19114.12</td>\n",
       "      <td>3</td>\n",
       "      <td>4</td>\n",
       "      <td>3</td>\n",
       "      <td>4</td>\n",
       "      <td>3</td>\n",
       "      <td>7.000</td>\n",
       "      <td>4.000</td>\n",
       "      <td>Unknown</td>\n",
       "      <td>809.98</td>\n",
       "      <td>26.823</td>\n",
       "      <td>No</td>\n",
       "      <td>49.575</td>\n",
       "      <td>80.41529543900253</td>\n",
       "      <td>HighspentSmallvaluepayments</td>\n",
       "      <td>312.49408867943663</td>\n",
       "      <td>2</td>\n",
       "      <td>265</td>\n",
       "    </tr>\n",
       "    <tr>\n",
       "      <th>3</th>\n",
       "      <td>23</td>\n",
       "      <td>Scientist</td>\n",
       "      <td>19114.12</td>\n",
       "      <td>3</td>\n",
       "      <td>4</td>\n",
       "      <td>3</td>\n",
       "      <td>4</td>\n",
       "      <td>5</td>\n",
       "      <td>4.000</td>\n",
       "      <td>4.000</td>\n",
       "      <td>Good</td>\n",
       "      <td>809.98</td>\n",
       "      <td>31.378</td>\n",
       "      <td>No</td>\n",
       "      <td>49.575</td>\n",
       "      <td>199.4580743910713</td>\n",
       "      <td>LowspentSmallvaluepayments</td>\n",
       "      <td>223.45130972736786</td>\n",
       "      <td>2</td>\n",
       "      <td>268</td>\n",
       "    </tr>\n",
       "    <tr>\n",
       "      <th>4</th>\n",
       "      <td>23</td>\n",
       "      <td>Scientist</td>\n",
       "      <td>19114.12</td>\n",
       "      <td>3</td>\n",
       "      <td>4</td>\n",
       "      <td>3</td>\n",
       "      <td>4</td>\n",
       "      <td>6</td>\n",
       "      <td>31.203</td>\n",
       "      <td>4.000</td>\n",
       "      <td>Good</td>\n",
       "      <td>809.98</td>\n",
       "      <td>24.797</td>\n",
       "      <td>No</td>\n",
       "      <td>49.575</td>\n",
       "      <td>41.420153086217326</td>\n",
       "      <td>HighspentMediumvaluepayments</td>\n",
       "      <td>341.48923103222177</td>\n",
       "      <td>2</td>\n",
       "      <td>269</td>\n",
       "    </tr>\n",
       "    <tr>\n",
       "      <th>5</th>\n",
       "      <td>23</td>\n",
       "      <td>Scientist</td>\n",
       "      <td>19114.12</td>\n",
       "      <td>3</td>\n",
       "      <td>4</td>\n",
       "      <td>3</td>\n",
       "      <td>4</td>\n",
       "      <td>8</td>\n",
       "      <td>4.000</td>\n",
       "      <td>4.000</td>\n",
       "      <td>Good</td>\n",
       "      <td>809.98</td>\n",
       "      <td>27.262</td>\n",
       "      <td>No</td>\n",
       "      <td>49.575</td>\n",
       "      <td>62.430172331195294</td>\n",
       "      <td>!@9#%8</td>\n",
       "      <td>340.4792117872438</td>\n",
       "      <td>2</td>\n",
       "      <td>270</td>\n",
       "    </tr>\n",
       "    <tr>\n",
       "      <th>6</th>\n",
       "      <td>23</td>\n",
       "      <td>Scientist</td>\n",
       "      <td>19114.12</td>\n",
       "      <td>3</td>\n",
       "      <td>4</td>\n",
       "      <td>3</td>\n",
       "      <td>4</td>\n",
       "      <td>3</td>\n",
       "      <td>8.000</td>\n",
       "      <td>4.000</td>\n",
       "      <td>Good</td>\n",
       "      <td>809.98</td>\n",
       "      <td>22.538</td>\n",
       "      <td>No</td>\n",
       "      <td>49.575</td>\n",
       "      <td>178.3440674122349</td>\n",
       "      <td>LowspentSmallvaluepayments</td>\n",
       "      <td>244.5653167062043</td>\n",
       "      <td>2</td>\n",
       "      <td>271</td>\n",
       "    </tr>\n",
       "  </tbody>\n",
       "</table>\n",
       "</div>"
      ],
      "text/plain": [
       "   Age Occupation Annual_Income  Num_Bank_Accounts  Num_Credit_Card  \\\n",
       "0   23  Scientist      19114.12                  3                4   \n",
       "3   23  Scientist      19114.12                  3                4   \n",
       "4   23  Scientist      19114.12                  3                4   \n",
       "5   23  Scientist      19114.12                  3                4   \n",
       "6   23  Scientist      19114.12                  3                4   \n",
       "\n",
       "   Interest_Rate  Num_of_Loan  Delay_from_due_date  Num_of_Delayed_Payment  \\\n",
       "0              3            4                    3                   7.000   \n",
       "3              3            4                    5                   4.000   \n",
       "4              3            4                    6                  31.203   \n",
       "5              3            4                    8                   4.000   \n",
       "6              3            4                    3                   8.000   \n",
       "\n",
       "   Num_Credit_Inquiries Credit_Mix Outstanding_Debt  Credit_Utilization_Ratio  \\\n",
       "0                 4.000    Unknown           809.98                    26.823   \n",
       "3                 4.000       Good           809.98                    31.378   \n",
       "4                 4.000       Good           809.98                    24.797   \n",
       "5                 4.000       Good           809.98                    27.262   \n",
       "6                 4.000       Good           809.98                    22.538   \n",
       "\n",
       "  Payment_of_Min_Amount  Total_EMI_per_month Amount_invested_monthly  \\\n",
       "0                    No               49.575       80.41529543900253   \n",
       "3                    No               49.575       199.4580743910713   \n",
       "4                    No               49.575      41.420153086217326   \n",
       "5                    No               49.575      62.430172331195294   \n",
       "6                    No               49.575       178.3440674122349   \n",
       "\n",
       "              Payment_Behaviour     Monthly_Balance  Credit_Score  \\\n",
       "0   HighspentSmallvaluepayments  312.49408867943663             2   \n",
       "3    LowspentSmallvaluepayments  223.45130972736786             2   \n",
       "4  HighspentMediumvaluepayments  341.48923103222177             2   \n",
       "5                        !@9#%8   340.4792117872438             2   \n",
       "6    LowspentSmallvaluepayments   244.5653167062043             2   \n",
       "\n",
       "   Credit_History_Age_Months  \n",
       "0                        265  \n",
       "3                        268  \n",
       "4                        269  \n",
       "5                        270  \n",
       "6                        271  "
      ]
     },
     "execution_count": 66,
     "metadata": {},
     "output_type": "execute_result"
    }
   ],
   "source": [
    "# Convert years to months and add with months to get total months\n",
    "df['Credit_History_Age_Months'] = df['Credit_History_Years'] * 12 + df['Credit_History_Months']\n",
    "\n",
    "# Drop the 'Credit_History_Years' and 'Credit_History_Months' columns\n",
    "df.drop(columns=['Credit_History_Years', 'Credit_History_Months'], inplace=True)\n",
    "\n",
    "df.head()"
   ]
  },
  {
   "cell_type": "code",
   "execution_count": 67,
   "metadata": {},
   "outputs": [
    {
     "data": {
      "text/plain": [
       "Payment_of_Min_Amount\n",
       "Yes    48966\n",
       "No     32262\n",
       "NM     11066\n",
       "Name: count, dtype: int64"
      ]
     },
     "execution_count": 67,
     "metadata": {},
     "output_type": "execute_result"
    }
   ],
   "source": [
    "df.Payment_of_Min_Amount.value_counts()"
   ]
  },
  {
   "cell_type": "code",
   "execution_count": 68,
   "metadata": {},
   "outputs": [
    {
     "data": {
      "text/plain": [
       "84073"
      ]
     },
     "execution_count": 68,
     "metadata": {},
     "output_type": "execute_result"
    }
   ],
   "source": [
    "df.Amount_invested_monthly.nunique()"
   ]
  },
  {
   "cell_type": "code",
   "execution_count": 69,
   "metadata": {},
   "outputs": [
    {
     "data": {
      "text/plain": [
       "{'.', 'nan'}"
      ]
     },
     "execution_count": 69,
     "metadata": {},
     "output_type": "execute_result"
    }
   ],
   "source": [
    "non_numeric_values(df, 'Amount_invested_monthly')"
   ]
  },
  {
   "cell_type": "code",
   "execution_count": 70,
   "metadata": {},
   "outputs": [
    {
     "data": {
      "text/plain": [
       "array([], dtype=float64)"
      ]
     },
     "execution_count": 70,
     "metadata": {},
     "output_type": "execute_result"
    }
   ],
   "source": [
    "df['Amount_invested_monthly'] = pd.to_numeric(df['Amount_invested_monthly'], errors='coerce')\n",
    "df[df['Amount_invested_monthly'] < 0]['Amount_invested_monthly'].unique()"
   ]
  },
  {
   "cell_type": "code",
   "execution_count": 71,
   "metadata": {},
   "outputs": [
    {
     "data": {
      "text/plain": [
       "Amount_invested_monthly\n",
       "10000.000    3941\n",
       "0.000         154\n",
       "80.415          1\n",
       "82.081          1\n",
       "145.409         1\n",
       "96.327          1\n",
       "157.643         1\n",
       "89.570          1\n",
       "51.802          1\n",
       "98.026          1\n",
       "145.016         1\n",
       "129.361         1\n",
       "119.764         1\n",
       "323.629         1\n",
       "108.036         1\n",
       "Name: count, dtype: int64"
      ]
     },
     "execution_count": 71,
     "metadata": {},
     "output_type": "execute_result"
    }
   ],
   "source": [
    "df.Amount_invested_monthly.value_counts().head(15)"
   ]
  },
  {
   "cell_type": "code",
   "execution_count": 72,
   "metadata": {},
   "outputs": [
    {
     "data": {
      "text/html": [
       "<div>\n",
       "<style scoped>\n",
       "    .dataframe tbody tr th:only-of-type {\n",
       "        vertical-align: middle;\n",
       "    }\n",
       "\n",
       "    .dataframe tbody tr th {\n",
       "        vertical-align: top;\n",
       "    }\n",
       "\n",
       "    .dataframe thead th {\n",
       "        text-align: right;\n",
       "    }\n",
       "</style>\n",
       "<table border=\"1\" class=\"dataframe\">\n",
       "  <thead>\n",
       "    <tr style=\"text-align: right;\">\n",
       "      <th></th>\n",
       "      <th>Age</th>\n",
       "      <th>Occupation</th>\n",
       "      <th>Annual_Income</th>\n",
       "      <th>Num_Bank_Accounts</th>\n",
       "      <th>Num_Credit_Card</th>\n",
       "      <th>Interest_Rate</th>\n",
       "      <th>Num_of_Loan</th>\n",
       "      <th>Delay_from_due_date</th>\n",
       "      <th>Num_of_Delayed_Payment</th>\n",
       "      <th>Num_Credit_Inquiries</th>\n",
       "      <th>Credit_Mix</th>\n",
       "      <th>Outstanding_Debt</th>\n",
       "      <th>Credit_Utilization_Ratio</th>\n",
       "      <th>Payment_of_Min_Amount</th>\n",
       "      <th>Total_EMI_per_month</th>\n",
       "      <th>Amount_invested_monthly</th>\n",
       "      <th>Payment_Behaviour</th>\n",
       "      <th>Monthly_Balance</th>\n",
       "      <th>Credit_Score</th>\n",
       "      <th>Credit_History_Age_Months</th>\n",
       "    </tr>\n",
       "  </thead>\n",
       "  <tbody>\n",
       "    <tr>\n",
       "      <th>70480</th>\n",
       "      <td>22</td>\n",
       "      <td>Doctor</td>\n",
       "      <td>14618.9</td>\n",
       "      <td>8</td>\n",
       "      <td>4</td>\n",
       "      <td>20</td>\n",
       "      <td>6</td>\n",
       "      <td>24</td>\n",
       "      <td>19.000</td>\n",
       "      <td>8.000</td>\n",
       "      <td>Unknown</td>\n",
       "      <td>408.9</td>\n",
       "      <td>38.600</td>\n",
       "      <td>Yes</td>\n",
       "      <td>43.602</td>\n",
       "      <td>NaN</td>\n",
       "      <td>HighspentMediumvaluepayments</td>\n",
       "      <td>286.6825979310693</td>\n",
       "      <td>1</td>\n",
       "      <td>214</td>\n",
       "    </tr>\n",
       "    <tr>\n",
       "      <th>78572</th>\n",
       "      <td>26</td>\n",
       "      <td>Entrepreneur</td>\n",
       "      <td>98703.99</td>\n",
       "      <td>2</td>\n",
       "      <td>6</td>\n",
       "      <td>8</td>\n",
       "      <td>3</td>\n",
       "      <td>10</td>\n",
       "      <td>5.000</td>\n",
       "      <td>4.000</td>\n",
       "      <td>Good</td>\n",
       "      <td>1386.11</td>\n",
       "      <td>41.135</td>\n",
       "      <td>NM</td>\n",
       "      <td>142.666</td>\n",
       "      <td>NaN</td>\n",
       "      <td>HighspentLargevaluepayments</td>\n",
       "      <td>845.2262390306828</td>\n",
       "      <td>1</td>\n",
       "      <td>347</td>\n",
       "    </tr>\n",
       "    <tr>\n",
       "      <th>18688</th>\n",
       "      <td>25</td>\n",
       "      <td>Developer</td>\n",
       "      <td>57055.95</td>\n",
       "      <td>4</td>\n",
       "      <td>4</td>\n",
       "      <td>9</td>\n",
       "      <td>4</td>\n",
       "      <td>13</td>\n",
       "      <td>15.000</td>\n",
       "      <td>5.000</td>\n",
       "      <td>Standard</td>\n",
       "      <td>470.01</td>\n",
       "      <td>37.338</td>\n",
       "      <td>Yes</td>\n",
       "      <td>174.286</td>\n",
       "      <td>NaN</td>\n",
       "      <td>HighspentSmallvaluepayments</td>\n",
       "      <td>452.5356968711969</td>\n",
       "      <td>1</td>\n",
       "      <td>93</td>\n",
       "    </tr>\n",
       "    <tr>\n",
       "      <th>64666</th>\n",
       "      <td>14</td>\n",
       "      <td>Manager</td>\n",
       "      <td>19556.16</td>\n",
       "      <td>7</td>\n",
       "      <td>7</td>\n",
       "      <td>33</td>\n",
       "      <td>5</td>\n",
       "      <td>34</td>\n",
       "      <td>16.000</td>\n",
       "      <td>9.000</td>\n",
       "      <td>Unknown</td>\n",
       "      <td>2850.96</td>\n",
       "      <td>23.619</td>\n",
       "      <td>Yes</td>\n",
       "      <td>65.797</td>\n",
       "      <td>NaN</td>\n",
       "      <td>HighspentMediumvaluepayments</td>\n",
       "      <td>307.2892978204384</td>\n",
       "      <td>1</td>\n",
       "      <td>58</td>\n",
       "    </tr>\n",
       "    <tr>\n",
       "      <th>71975</th>\n",
       "      <td>26</td>\n",
       "      <td>Developer</td>\n",
       "      <td>40782.69</td>\n",
       "      <td>2</td>\n",
       "      <td>6</td>\n",
       "      <td>7</td>\n",
       "      <td>2</td>\n",
       "      <td>19</td>\n",
       "      <td>8.000</td>\n",
       "      <td>3.000</td>\n",
       "      <td>Good</td>\n",
       "      <td>1233.24</td>\n",
       "      <td>25.708</td>\n",
       "      <td>No</td>\n",
       "      <td>39.549</td>\n",
       "      <td>NaN</td>\n",
       "      <td>HighspentLargevaluepayments</td>\n",
       "      <td>470.7394511187983</td>\n",
       "      <td>0</td>\n",
       "      <td>362</td>\n",
       "    </tr>\n",
       "    <tr>\n",
       "      <th>20517</th>\n",
       "      <td>34</td>\n",
       "      <td>Doctor</td>\n",
       "      <td>62925.64</td>\n",
       "      <td>7</td>\n",
       "      <td>5</td>\n",
       "      <td>21</td>\n",
       "      <td>2</td>\n",
       "      <td>22</td>\n",
       "      <td>18.000</td>\n",
       "      <td>10.000</td>\n",
       "      <td>Standard</td>\n",
       "      <td>2060.33</td>\n",
       "      <td>25.561</td>\n",
       "      <td>Yes</td>\n",
       "      <td>94.355</td>\n",
       "      <td>NaN</td>\n",
       "      <td>LowspentSmallvaluepayments</td>\n",
       "      <td>88.93798954511192</td>\n",
       "      <td>0</td>\n",
       "      <td>240</td>\n",
       "    </tr>\n",
       "    <tr>\n",
       "      <th>61832</th>\n",
       "      <td>39</td>\n",
       "      <td>Accountant</td>\n",
       "      <td>17153.69</td>\n",
       "      <td>6</td>\n",
       "      <td>8</td>\n",
       "      <td>22</td>\n",
       "      <td>3</td>\n",
       "      <td>58</td>\n",
       "      <td>22.000</td>\n",
       "      <td>59.000</td>\n",
       "      <td>Bad</td>\n",
       "      <td>1757.24</td>\n",
       "      <td>24.218</td>\n",
       "      <td>Yes</td>\n",
       "      <td>38.063</td>\n",
       "      <td>NaN</td>\n",
       "      <td>LowspentSmallvaluepayments</td>\n",
       "      <td>291.6095716225683</td>\n",
       "      <td>0</td>\n",
       "      <td>227</td>\n",
       "    </tr>\n",
       "    <tr>\n",
       "      <th>76615</th>\n",
       "      <td>43</td>\n",
       "      <td>Mechanic</td>\n",
       "      <td>15302.74</td>\n",
       "      <td>10</td>\n",
       "      <td>10</td>\n",
       "      <td>24</td>\n",
       "      <td>5</td>\n",
       "      <td>32</td>\n",
       "      <td>22.000</td>\n",
       "      <td>6.000</td>\n",
       "      <td>Bad</td>\n",
       "      <td>4620.45</td>\n",
       "      <td>27.004</td>\n",
       "      <td>Yes</td>\n",
       "      <td>28197.000</td>\n",
       "      <td>NaN</td>\n",
       "      <td>LowspentSmallvaluepayments</td>\n",
       "      <td>196.78687332408063</td>\n",
       "      <td>0</td>\n",
       "      <td>159</td>\n",
       "    </tr>\n",
       "    <tr>\n",
       "      <th>66693</th>\n",
       "      <td>44</td>\n",
       "      <td>Teacher</td>\n",
       "      <td>8787.9</td>\n",
       "      <td>8</td>\n",
       "      <td>5</td>\n",
       "      <td>18</td>\n",
       "      <td>5</td>\n",
       "      <td>8</td>\n",
       "      <td>2348.000</td>\n",
       "      <td>9.000</td>\n",
       "      <td>Unknown</td>\n",
       "      <td>234.47</td>\n",
       "      <td>30.241</td>\n",
       "      <td>Yes</td>\n",
       "      <td>23.825</td>\n",
       "      <td>NaN</td>\n",
       "      <td>HighspentLargevaluepayments</td>\n",
       "      <td>254.8708872627381</td>\n",
       "      <td>2</td>\n",
       "      <td>169</td>\n",
       "    </tr>\n",
       "    <tr>\n",
       "      <th>53506</th>\n",
       "      <td>29</td>\n",
       "      <td>Journalist</td>\n",
       "      <td>8514.715</td>\n",
       "      <td>10</td>\n",
       "      <td>7</td>\n",
       "      <td>22</td>\n",
       "      <td>6</td>\n",
       "      <td>21</td>\n",
       "      <td>16.000</td>\n",
       "      <td>8.000</td>\n",
       "      <td>Bad</td>\n",
       "      <td>4403.86</td>\n",
       "      <td>36.477</td>\n",
       "      <td>Yes</td>\n",
       "      <td>21.483</td>\n",
       "      <td>NaN</td>\n",
       "      <td>LowspentLargevaluepayments</td>\n",
       "      <td>276.06210572532706</td>\n",
       "      <td>1</td>\n",
       "      <td>107</td>\n",
       "    </tr>\n",
       "    <tr>\n",
       "      <th>17297</th>\n",
       "      <td>31</td>\n",
       "      <td>Architect</td>\n",
       "      <td>9265.495</td>\n",
       "      <td>10</td>\n",
       "      <td>9</td>\n",
       "      <td>24</td>\n",
       "      <td>9</td>\n",
       "      <td>46</td>\n",
       "      <td>16.000</td>\n",
       "      <td>6.000</td>\n",
       "      <td>Bad</td>\n",
       "      <td>4301.98</td>\n",
       "      <td>23.005</td>\n",
       "      <td>Yes</td>\n",
       "      <td>14829.000</td>\n",
       "      <td>NaN</td>\n",
       "      <td>HighspentLargevaluepayments</td>\n",
       "      <td>250.43302446861873</td>\n",
       "      <td>1</td>\n",
       "      <td>106</td>\n",
       "    </tr>\n",
       "    <tr>\n",
       "      <th>99444</th>\n",
       "      <td>51</td>\n",
       "      <td>Manager</td>\n",
       "      <td>144066.24</td>\n",
       "      <td>8</td>\n",
       "      <td>6</td>\n",
       "      <td>13</td>\n",
       "      <td>2</td>\n",
       "      <td>29</td>\n",
       "      <td>10.000</td>\n",
       "      <td>2.000</td>\n",
       "      <td>Standard</td>\n",
       "      <td>670.35</td>\n",
       "      <td>34.071</td>\n",
       "      <td>No</td>\n",
       "      <td>225.715</td>\n",
       "      <td>NaN</td>\n",
       "      <td>!@9#%8</td>\n",
       "      <td>914.978</td>\n",
       "      <td>0</td>\n",
       "      <td>380</td>\n",
       "    </tr>\n",
       "    <tr>\n",
       "      <th>79716</th>\n",
       "      <td>20</td>\n",
       "      <td>Teacher</td>\n",
       "      <td>39269.97</td>\n",
       "      <td>1</td>\n",
       "      <td>7</td>\n",
       "      <td>1</td>\n",
       "      <td>4</td>\n",
       "      <td>0</td>\n",
       "      <td>5.000</td>\n",
       "      <td>1.000</td>\n",
       "      <td>Good</td>\n",
       "      <td>785.78</td>\n",
       "      <td>27.712</td>\n",
       "      <td>No</td>\n",
       "      <td>105.550</td>\n",
       "      <td>NaN</td>\n",
       "      <td>LowspentSmallvaluepayments</td>\n",
       "      <td>257.4014340701533</td>\n",
       "      <td>0</td>\n",
       "      <td>293</td>\n",
       "    </tr>\n",
       "    <tr>\n",
       "      <th>95681</th>\n",
       "      <td>18</td>\n",
       "      <td>Writer</td>\n",
       "      <td>12941.135</td>\n",
       "      <td>5</td>\n",
       "      <td>4</td>\n",
       "      <td>20</td>\n",
       "      <td>7</td>\n",
       "      <td>19</td>\n",
       "      <td>13.000</td>\n",
       "      <td>7.000</td>\n",
       "      <td>Standard</td>\n",
       "      <td>219.36</td>\n",
       "      <td>24.821</td>\n",
       "      <td>NM</td>\n",
       "      <td>74.951</td>\n",
       "      <td>NaN</td>\n",
       "      <td>!@9#%8</td>\n",
       "      <td>254.46204500167718</td>\n",
       "      <td>1</td>\n",
       "      <td>138</td>\n",
       "    </tr>\n",
       "    <tr>\n",
       "      <th>42433</th>\n",
       "      <td>24</td>\n",
       "      <td>Writer</td>\n",
       "      <td>15139.13</td>\n",
       "      <td>7</td>\n",
       "      <td>7</td>\n",
       "      <td>17</td>\n",
       "      <td>7</td>\n",
       "      <td>42</td>\n",
       "      <td>20.000</td>\n",
       "      <td>8.000</td>\n",
       "      <td>Bad</td>\n",
       "      <td>3168.37</td>\n",
       "      <td>25.238</td>\n",
       "      <td>Yes</td>\n",
       "      <td>79.272</td>\n",
       "      <td>NaN</td>\n",
       "      <td>HighspentSmallvaluepayments</td>\n",
       "      <td>227.18738503412288</td>\n",
       "      <td>0</td>\n",
       "      <td>87</td>\n",
       "    </tr>\n",
       "  </tbody>\n",
       "</table>\n",
       "</div>"
      ],
      "text/plain": [
       "       Age    Occupation Annual_Income  Num_Bank_Accounts  Num_Credit_Card  \\\n",
       "70480   22        Doctor       14618.9                  8                4   \n",
       "78572   26  Entrepreneur      98703.99                  2                6   \n",
       "18688   25     Developer      57055.95                  4                4   \n",
       "64666   14       Manager      19556.16                  7                7   \n",
       "71975   26     Developer      40782.69                  2                6   \n",
       "20517   34        Doctor      62925.64                  7                5   \n",
       "61832   39    Accountant      17153.69                  6                8   \n",
       "76615   43      Mechanic      15302.74                 10               10   \n",
       "66693   44       Teacher        8787.9                  8                5   \n",
       "53506   29    Journalist      8514.715                 10                7   \n",
       "17297   31     Architect      9265.495                 10                9   \n",
       "99444   51       Manager     144066.24                  8                6   \n",
       "79716   20       Teacher      39269.97                  1                7   \n",
       "95681   18        Writer     12941.135                  5                4   \n",
       "42433   24        Writer      15139.13                  7                7   \n",
       "\n",
       "       Interest_Rate  Num_of_Loan  Delay_from_due_date  \\\n",
       "70480             20            6                   24   \n",
       "78572              8            3                   10   \n",
       "18688              9            4                   13   \n",
       "64666             33            5                   34   \n",
       "71975              7            2                   19   \n",
       "20517             21            2                   22   \n",
       "61832             22            3                   58   \n",
       "76615             24            5                   32   \n",
       "66693             18            5                    8   \n",
       "53506             22            6                   21   \n",
       "17297             24            9                   46   \n",
       "99444             13            2                   29   \n",
       "79716              1            4                    0   \n",
       "95681             20            7                   19   \n",
       "42433             17            7                   42   \n",
       "\n",
       "       Num_of_Delayed_Payment  Num_Credit_Inquiries Credit_Mix  \\\n",
       "70480                  19.000                 8.000    Unknown   \n",
       "78572                   5.000                 4.000       Good   \n",
       "18688                  15.000                 5.000   Standard   \n",
       "64666                  16.000                 9.000    Unknown   \n",
       "71975                   8.000                 3.000       Good   \n",
       "20517                  18.000                10.000   Standard   \n",
       "61832                  22.000                59.000        Bad   \n",
       "76615                  22.000                 6.000        Bad   \n",
       "66693                2348.000                 9.000    Unknown   \n",
       "53506                  16.000                 8.000        Bad   \n",
       "17297                  16.000                 6.000        Bad   \n",
       "99444                  10.000                 2.000   Standard   \n",
       "79716                   5.000                 1.000       Good   \n",
       "95681                  13.000                 7.000   Standard   \n",
       "42433                  20.000                 8.000        Bad   \n",
       "\n",
       "      Outstanding_Debt  Credit_Utilization_Ratio Payment_of_Min_Amount  \\\n",
       "70480            408.9                    38.600                   Yes   \n",
       "78572          1386.11                    41.135                    NM   \n",
       "18688           470.01                    37.338                   Yes   \n",
       "64666          2850.96                    23.619                   Yes   \n",
       "71975          1233.24                    25.708                    No   \n",
       "20517          2060.33                    25.561                   Yes   \n",
       "61832          1757.24                    24.218                   Yes   \n",
       "76615          4620.45                    27.004                   Yes   \n",
       "66693           234.47                    30.241                   Yes   \n",
       "53506          4403.86                    36.477                   Yes   \n",
       "17297          4301.98                    23.005                   Yes   \n",
       "99444           670.35                    34.071                    No   \n",
       "79716           785.78                    27.712                    No   \n",
       "95681           219.36                    24.821                    NM   \n",
       "42433          3168.37                    25.238                   Yes   \n",
       "\n",
       "       Total_EMI_per_month  Amount_invested_monthly  \\\n",
       "70480               43.602                      NaN   \n",
       "78572              142.666                      NaN   \n",
       "18688              174.286                      NaN   \n",
       "64666               65.797                      NaN   \n",
       "71975               39.549                      NaN   \n",
       "20517               94.355                      NaN   \n",
       "61832               38.063                      NaN   \n",
       "76615            28197.000                      NaN   \n",
       "66693               23.825                      NaN   \n",
       "53506               21.483                      NaN   \n",
       "17297            14829.000                      NaN   \n",
       "99444              225.715                      NaN   \n",
       "79716              105.550                      NaN   \n",
       "95681               74.951                      NaN   \n",
       "42433               79.272                      NaN   \n",
       "\n",
       "                  Payment_Behaviour     Monthly_Balance  Credit_Score  \\\n",
       "70480  HighspentMediumvaluepayments   286.6825979310693             1   \n",
       "78572   HighspentLargevaluepayments   845.2262390306828             1   \n",
       "18688   HighspentSmallvaluepayments   452.5356968711969             1   \n",
       "64666  HighspentMediumvaluepayments   307.2892978204384             1   \n",
       "71975   HighspentLargevaluepayments   470.7394511187983             0   \n",
       "20517    LowspentSmallvaluepayments   88.93798954511192             0   \n",
       "61832    LowspentSmallvaluepayments   291.6095716225683             0   \n",
       "76615    LowspentSmallvaluepayments  196.78687332408063             0   \n",
       "66693   HighspentLargevaluepayments   254.8708872627381             2   \n",
       "53506    LowspentLargevaluepayments  276.06210572532706             1   \n",
       "17297   HighspentLargevaluepayments  250.43302446861873             1   \n",
       "99444                        !@9#%8             914.978             0   \n",
       "79716    LowspentSmallvaluepayments   257.4014340701533             0   \n",
       "95681                        !@9#%8  254.46204500167718             1   \n",
       "42433   HighspentSmallvaluepayments  227.18738503412288             0   \n",
       "\n",
       "       Credit_History_Age_Months  \n",
       "70480                        214  \n",
       "78572                        347  \n",
       "18688                         93  \n",
       "64666                         58  \n",
       "71975                        362  \n",
       "20517                        240  \n",
       "61832                        227  \n",
       "76615                        159  \n",
       "66693                        169  \n",
       "53506                        107  \n",
       "17297                        106  \n",
       "99444                        380  \n",
       "79716                        293  \n",
       "95681                        138  \n",
       "42433                         87  "
      ]
     },
     "execution_count": 72,
     "metadata": {},
     "output_type": "execute_result"
    }
   ],
   "source": [
    "df[df.Amount_invested_monthly.isna()].sample(15)"
   ]
  },
  {
   "cell_type": "code",
   "execution_count": 73,
   "metadata": {},
   "outputs": [],
   "source": [
    "df = knn_impute_column(df, 'Amount_invested_monthly')"
   ]
  },
  {
   "cell_type": "code",
   "execution_count": 74,
   "metadata": {},
   "outputs": [
    {
     "data": {
      "text/plain": [
       "0"
      ]
     },
     "execution_count": 74,
     "metadata": {},
     "output_type": "execute_result"
    }
   ],
   "source": [
    "df.Amount_invested_monthly.isna().sum()"
   ]
  },
  {
   "cell_type": "code",
   "execution_count": 75,
   "metadata": {},
   "outputs": [
    {
     "data": {
      "text/plain": [
       "Amount_invested_monthly\n",
       "633.430      4128\n",
       "10000.000    3941\n",
       "0.000         154\n",
       "80.415          1\n",
       "82.081          1\n",
       "145.409         1\n",
       "96.327          1\n",
       "157.643         1\n",
       "89.570          1\n",
       "51.802          1\n",
       "Name: count, dtype: int64"
      ]
     },
     "execution_count": 75,
     "metadata": {},
     "output_type": "execute_result"
    }
   ],
   "source": [
    "df.Amount_invested_monthly.value_counts().head(10)"
   ]
  },
  {
   "cell_type": "code",
   "execution_count": 76,
   "metadata": {},
   "outputs": [
    {
     "data": {
      "text/plain": [
       "3941"
      ]
     },
     "execution_count": 76,
     "metadata": {},
     "output_type": "execute_result"
    }
   ],
   "source": [
    "df[df['Amount_invested_monthly'] == 10000]['Amount_invested_monthly'].count()"
   ]
  },
  {
   "cell_type": "code",
   "execution_count": 77,
   "metadata": {},
   "outputs": [
    {
     "data": {
      "text/plain": [
       "Payment_Behaviour\n",
       "LowspentSmallvaluepayments      23661\n",
       "HighspentMediumvaluepayments    16179\n",
       "LowspentMediumvaluepayments     12777\n",
       "HighspentLargevaluepayments     12569\n",
       "HighspentSmallvaluepayments     10468\n",
       "LowspentLargevaluepayments       9646\n",
       "!@9#%8                           6994\n",
       "Name: count, dtype: int64"
      ]
     },
     "execution_count": 77,
     "metadata": {},
     "output_type": "execute_result"
    }
   ],
   "source": [
    "df.Payment_Behaviour.value_counts()"
   ]
  },
  {
   "cell_type": "code",
   "execution_count": 78,
   "metadata": {},
   "outputs": [],
   "source": [
    "# Replace '!@9#%8' with NaN\n",
    "df['Payment_Behaviour'].replace('!@9#%8', pd.NA, inplace=True)\n",
    "\n",
    "# Impute missing values with mode\n",
    "mode_value = df['Payment_Behaviour'].mode()[0]\n",
    "df['Payment_Behaviour'].fillna(mode_value, inplace=True)"
   ]
  },
  {
   "cell_type": "code",
   "execution_count": 79,
   "metadata": {},
   "outputs": [
    {
     "data": {
      "text/plain": [
       "Payment_Behaviour\n",
       "LowspentSmallvaluepayments      30655\n",
       "HighspentMediumvaluepayments    16179\n",
       "LowspentMediumvaluepayments     12777\n",
       "HighspentLargevaluepayments     12569\n",
       "HighspentSmallvaluepayments     10468\n",
       "LowspentLargevaluepayments       9646\n",
       "Name: count, dtype: int64"
      ]
     },
     "execution_count": 79,
     "metadata": {},
     "output_type": "execute_result"
    }
   ],
   "source": [
    "df.Payment_Behaviour.value_counts()"
   ]
  },
  {
   "cell_type": "code",
   "execution_count": 80,
   "metadata": {},
   "outputs": [
    {
     "data": {
      "text/plain": [
       "Payment_Behaviour\n",
       "Low_spent_Small_value_payments      30655\n",
       "High_spent_Medium_value_payments    16179\n",
       "Low_spent_Medium_value_payments     12777\n",
       "High_spent_Large_value_payments     12569\n",
       "High_spent_Small_value_payments     10468\n",
       "Low_spent_Large_value_payments       9646\n",
       "Name: count, dtype: int64"
      ]
     },
     "execution_count": 80,
     "metadata": {},
     "output_type": "execute_result"
    }
   ],
   "source": [
    "df['Payment_Behaviour'] = df['Payment_Behaviour'].str.replace('Lowspent', 'Low_spent_')\n",
    "df['Payment_Behaviour'] = df['Payment_Behaviour'].str.replace('Highspent', 'High_spent_')\n",
    "df['Payment_Behaviour'] = df['Payment_Behaviour'].str.replace('Highspent', 'High_spent_')\n",
    "\n",
    "df['Payment_Behaviour'] = df['Payment_Behaviour'].str.replace('Smallvalue', 'Small_value_')\n",
    "df['Payment_Behaviour'] = df['Payment_Behaviour'].str.replace('Largevalue', 'Large_value_')\n",
    "df['Payment_Behaviour'] = df['Payment_Behaviour'].str.replace('Mediumvalue', 'Medium_value_')\n",
    "\n",
    "df['Payment_Behaviour'].value_counts()"
   ]
  },
  {
   "cell_type": "code",
   "execution_count": 81,
   "metadata": {},
   "outputs": [
    {
     "data": {
      "text/plain": [
       "1123"
      ]
     },
     "execution_count": 81,
     "metadata": {},
     "output_type": "execute_result"
    }
   ],
   "source": [
    "df.Monthly_Balance.isna().sum()"
   ]
  },
  {
   "cell_type": "code",
   "execution_count": 82,
   "metadata": {},
   "outputs": [
    {
     "data": {
      "text/plain": [
       "{'-', '.', 'nan'}"
      ]
     },
     "execution_count": 82,
     "metadata": {},
     "output_type": "execute_result"
    }
   ],
   "source": [
    "non_numeric_values(df, 'Monthly_Balance')"
   ]
  },
  {
   "cell_type": "code",
   "execution_count": 83,
   "metadata": {},
   "outputs": [
    {
     "data": {
      "text/plain": [
       "9"
      ]
     },
     "execution_count": 83,
     "metadata": {},
     "output_type": "execute_result"
    }
   ],
   "source": [
    "df['Monthly_Balance'] = pd.to_numeric(df['Monthly_Balance'], errors='coerce')\n",
    "df[df['Monthly_Balance'] < 0]['Monthly_Balance'].count()"
   ]
  },
  {
   "cell_type": "code",
   "execution_count": 84,
   "metadata": {},
   "outputs": [],
   "source": [
    "df.drop(df[df['Monthly_Balance'] < 0].index, inplace = True)"
   ]
  },
  {
   "cell_type": "code",
   "execution_count": 85,
   "metadata": {},
   "outputs": [
    {
     "data": {
      "text/plain": [
       "Monthly_Balance\n",
       "312.494    1\n",
       "286.520    1\n",
       "395.106    1\n",
       "440.468    1\n",
       "411.910    1\n",
       "397.622    1\n",
       "327.670    1\n",
       "399.045    1\n",
       "355.826    1\n",
       "199.857    1\n",
       "304.184    1\n",
       "539.684    1\n",
       "614.241    1\n",
       "519.046    1\n",
       "494.545    1\n",
       "Name: count, dtype: int64"
      ]
     },
     "execution_count": 85,
     "metadata": {},
     "output_type": "execute_result"
    }
   ],
   "source": [
    "df['Monthly_Balance'].value_counts().head(15)"
   ]
  },
  {
   "cell_type": "code",
   "execution_count": 86,
   "metadata": {},
   "outputs": [
    {
     "data": {
      "text/plain": [
       "1602.0405189622518"
      ]
     },
     "execution_count": 86,
     "metadata": {},
     "output_type": "execute_result"
    }
   ],
   "source": [
    "df['Monthly_Balance'].max()"
   ]
  },
  {
   "cell_type": "code",
   "execution_count": 87,
   "metadata": {},
   "outputs": [
    {
     "data": {
      "text/plain": [
       "0.007759665"
      ]
     },
     "execution_count": 87,
     "metadata": {},
     "output_type": "execute_result"
    }
   ],
   "source": [
    "df['Monthly_Balance'].min()"
   ]
  },
  {
   "cell_type": "code",
   "execution_count": 88,
   "metadata": {},
   "outputs": [
    {
     "data": {
      "text/plain": [
       "401.10228551216187"
      ]
     },
     "execution_count": 88,
     "metadata": {},
     "output_type": "execute_result"
    }
   ],
   "source": [
    "df['Monthly_Balance'].mean()"
   ]
  },
  {
   "cell_type": "code",
   "execution_count": 89,
   "metadata": {},
   "outputs": [
    {
     "data": {
      "text/plain": [
       "0"
      ]
     },
     "execution_count": 89,
     "metadata": {},
     "output_type": "execute_result"
    }
   ],
   "source": [
    "df = knn_impute_column(df, 'Monthly_Balance')\n",
    "df.Monthly_Balance.isna().sum()"
   ]
  },
  {
   "cell_type": "markdown",
   "metadata": {},
   "source": [
    "### Take Care of outliers"
   ]
  },
  {
   "cell_type": "code",
   "execution_count": null,
   "metadata": {},
   "outputs": [],
   "source": []
  },
  {
   "cell_type": "code",
   "execution_count": 91,
   "metadata": {},
   "outputs": [],
   "source": [
    "df['Num_Bank_Accounts'] = df['Num_Bank_Accounts'].apply(lambda x: 11 if x > 11 else x)\n",
    "\n",
    "df['Num_Credit_Card'] = df['Num_Credit_Card'].apply(lambda x: 11 if x > 11 else x)\n",
    "\n",
    "df['Num_of_Loan'] = df['Num_of_Loan'].apply(lambda x: 9 if x > 9 else x)\n",
    "\n",
    "df['Num_of_Delayed_Payment'] = df['Num_of_Delayed_Payment'].apply(lambda x: 50 if x > 50 else x)\n",
    "\n",
    "df['Num_Credit_Inquiries'] = df['Num_Credit_Inquiries'].apply(lambda x: 17 if x > 17 else x)\n",
    "\n",
    "df['Interest_Rate'] = df['Interest_Rate'].apply(lambda x: 24 if x > 24 else x)"
   ]
  },
  {
   "cell_type": "code",
   "execution_count": 92,
   "metadata": {},
   "outputs": [
    {
     "name": "stdout",
     "output_type": "stream",
     "text": [
      "<class 'pandas.core.frame.DataFrame'>\n",
      "Index: 92285 entries, 0 to 99999\n",
      "Data columns (total 21 columns):\n",
      " #   Column                     Non-Null Count  Dtype  \n",
      "---  ------                     --------------  -----  \n",
      " 0   Age                        92285 non-null  int64  \n",
      " 1   Occupation                 92285 non-null  object \n",
      " 2   Annual_Income              92285 non-null  float64\n",
      " 3   Num_Bank_Accounts          92285 non-null  int64  \n",
      " 4   Num_Credit_Card            92285 non-null  int64  \n",
      " 5   Interest_Rate              92285 non-null  int64  \n",
      " 6   Num_of_Loan                92285 non-null  int64  \n",
      " 7   Delay_from_due_date        92285 non-null  int64  \n",
      " 8   Num_of_Delayed_Payment     92285 non-null  float64\n",
      " 9   Num_Credit_Inquiries       92285 non-null  float64\n",
      " 10  Credit_Mix                 92285 non-null  object \n",
      " 11  Outstanding_Debt           92285 non-null  float64\n",
      " 12  Credit_Utilization_Ratio   92285 non-null  float64\n",
      " 13  Payment_of_Min_Amount      92285 non-null  object \n",
      " 14  Total_EMI_per_month        92285 non-null  float64\n",
      " 15  Amount_invested_monthly    92285 non-null  float64\n",
      " 16  Payment_Behaviour          92285 non-null  object \n",
      " 17  Monthly_Balance            92285 non-null  float64\n",
      " 18  Credit_Score               92285 non-null  int64  \n",
      " 19  Credit_History_Age_Months  92285 non-null  int64  \n",
      " 20  Score_Category             92285 non-null  object \n",
      "dtypes: float64(8), int64(8), object(5)\n",
      "memory usage: 15.5+ MB\n"
     ]
    }
   ],
   "source": [
    "# Create the Score_Category column based on the value of Credit_Score\n",
    "df['Score_Category'] = df['Credit_Score'].map({2: 'Good', 1: 'Standard', 0: 'Poor'})\n",
    "\n",
    "# lastly change wrong dtypes..\n",
    "df['Annual_Income'] = df['Annual_Income'].astype(float)\n",
    "df['Outstanding_Debt'] = df['Outstanding_Debt'].astype(float)\n",
    "\n",
    "df.info()"
   ]
  },
  {
   "cell_type": "code",
   "execution_count": 93,
   "metadata": {},
   "outputs": [],
   "source": [
    "df.to_csv(\"train_cleaned.csv\", index=False)"
   ]
  },
  {
   "cell_type": "code",
   "execution_count": 94,
   "metadata": {},
   "outputs": [
    {
     "data": {
      "text/html": [
       "<div>\n",
       "<style scoped>\n",
       "    .dataframe tbody tr th:only-of-type {\n",
       "        vertical-align: middle;\n",
       "    }\n",
       "\n",
       "    .dataframe tbody tr th {\n",
       "        vertical-align: top;\n",
       "    }\n",
       "\n",
       "    .dataframe thead th {\n",
       "        text-align: right;\n",
       "    }\n",
       "</style>\n",
       "<table border=\"1\" class=\"dataframe\">\n",
       "  <thead>\n",
       "    <tr style=\"text-align: right;\">\n",
       "      <th></th>\n",
       "      <th>Age</th>\n",
       "      <th>Occupation</th>\n",
       "      <th>Annual_Income</th>\n",
       "      <th>Num_Bank_Accounts</th>\n",
       "      <th>Num_Credit_Card</th>\n",
       "      <th>Interest_Rate</th>\n",
       "      <th>Num_of_Loan</th>\n",
       "      <th>Delay_from_due_date</th>\n",
       "      <th>Num_of_Delayed_Payment</th>\n",
       "      <th>Num_Credit_Inquiries</th>\n",
       "      <th>...</th>\n",
       "      <th>Outstanding_Debt</th>\n",
       "      <th>Credit_Utilization_Ratio</th>\n",
       "      <th>Payment_of_Min_Amount</th>\n",
       "      <th>Total_EMI_per_month</th>\n",
       "      <th>Amount_invested_monthly</th>\n",
       "      <th>Payment_Behaviour</th>\n",
       "      <th>Monthly_Balance</th>\n",
       "      <th>Credit_Score</th>\n",
       "      <th>Credit_History_Age_Months</th>\n",
       "      <th>Score_Category</th>\n",
       "    </tr>\n",
       "  </thead>\n",
       "  <tbody>\n",
       "    <tr>\n",
       "      <th>0</th>\n",
       "      <td>23</td>\n",
       "      <td>Scientist</td>\n",
       "      <td>19114.120</td>\n",
       "      <td>3</td>\n",
       "      <td>4</td>\n",
       "      <td>3</td>\n",
       "      <td>4</td>\n",
       "      <td>3</td>\n",
       "      <td>7.000</td>\n",
       "      <td>4.000</td>\n",
       "      <td>...</td>\n",
       "      <td>809.980</td>\n",
       "      <td>26.823</td>\n",
       "      <td>No</td>\n",
       "      <td>49.575</td>\n",
       "      <td>80.415</td>\n",
       "      <td>High_spent_Small_value_payments</td>\n",
       "      <td>312.494</td>\n",
       "      <td>2</td>\n",
       "      <td>265</td>\n",
       "      <td>Good</td>\n",
       "    </tr>\n",
       "    <tr>\n",
       "      <th>1</th>\n",
       "      <td>23</td>\n",
       "      <td>Scientist</td>\n",
       "      <td>19114.120</td>\n",
       "      <td>3</td>\n",
       "      <td>4</td>\n",
       "      <td>3</td>\n",
       "      <td>4</td>\n",
       "      <td>5</td>\n",
       "      <td>4.000</td>\n",
       "      <td>4.000</td>\n",
       "      <td>...</td>\n",
       "      <td>809.980</td>\n",
       "      <td>31.378</td>\n",
       "      <td>No</td>\n",
       "      <td>49.575</td>\n",
       "      <td>199.458</td>\n",
       "      <td>Low_spent_Small_value_payments</td>\n",
       "      <td>223.451</td>\n",
       "      <td>2</td>\n",
       "      <td>268</td>\n",
       "      <td>Good</td>\n",
       "    </tr>\n",
       "    <tr>\n",
       "      <th>2</th>\n",
       "      <td>23</td>\n",
       "      <td>Scientist</td>\n",
       "      <td>19114.120</td>\n",
       "      <td>3</td>\n",
       "      <td>4</td>\n",
       "      <td>3</td>\n",
       "      <td>4</td>\n",
       "      <td>6</td>\n",
       "      <td>31.203</td>\n",
       "      <td>4.000</td>\n",
       "      <td>...</td>\n",
       "      <td>809.980</td>\n",
       "      <td>24.797</td>\n",
       "      <td>No</td>\n",
       "      <td>49.575</td>\n",
       "      <td>41.420</td>\n",
       "      <td>High_spent_Medium_value_payments</td>\n",
       "      <td>341.489</td>\n",
       "      <td>2</td>\n",
       "      <td>269</td>\n",
       "      <td>Good</td>\n",
       "    </tr>\n",
       "    <tr>\n",
       "      <th>3</th>\n",
       "      <td>23</td>\n",
       "      <td>Scientist</td>\n",
       "      <td>19114.120</td>\n",
       "      <td>3</td>\n",
       "      <td>4</td>\n",
       "      <td>3</td>\n",
       "      <td>4</td>\n",
       "      <td>8</td>\n",
       "      <td>4.000</td>\n",
       "      <td>4.000</td>\n",
       "      <td>...</td>\n",
       "      <td>809.980</td>\n",
       "      <td>27.262</td>\n",
       "      <td>No</td>\n",
       "      <td>49.575</td>\n",
       "      <td>62.430</td>\n",
       "      <td>Low_spent_Small_value_payments</td>\n",
       "      <td>340.479</td>\n",
       "      <td>2</td>\n",
       "      <td>270</td>\n",
       "      <td>Good</td>\n",
       "    </tr>\n",
       "    <tr>\n",
       "      <th>4</th>\n",
       "      <td>23</td>\n",
       "      <td>Scientist</td>\n",
       "      <td>19114.120</td>\n",
       "      <td>3</td>\n",
       "      <td>4</td>\n",
       "      <td>3</td>\n",
       "      <td>4</td>\n",
       "      <td>3</td>\n",
       "      <td>8.000</td>\n",
       "      <td>4.000</td>\n",
       "      <td>...</td>\n",
       "      <td>809.980</td>\n",
       "      <td>22.538</td>\n",
       "      <td>No</td>\n",
       "      <td>49.575</td>\n",
       "      <td>178.344</td>\n",
       "      <td>Low_spent_Small_value_payments</td>\n",
       "      <td>244.565</td>\n",
       "      <td>2</td>\n",
       "      <td>271</td>\n",
       "      <td>Good</td>\n",
       "    </tr>\n",
       "  </tbody>\n",
       "</table>\n",
       "<p>5 rows × 21 columns</p>\n",
       "</div>"
      ],
      "text/plain": [
       "   Age Occupation  Annual_Income  Num_Bank_Accounts  Num_Credit_Card  \\\n",
       "0   23  Scientist      19114.120                  3                4   \n",
       "1   23  Scientist      19114.120                  3                4   \n",
       "2   23  Scientist      19114.120                  3                4   \n",
       "3   23  Scientist      19114.120                  3                4   \n",
       "4   23  Scientist      19114.120                  3                4   \n",
       "\n",
       "   Interest_Rate  Num_of_Loan  Delay_from_due_date  Num_of_Delayed_Payment  \\\n",
       "0              3            4                    3                   7.000   \n",
       "1              3            4                    5                   4.000   \n",
       "2              3            4                    6                  31.203   \n",
       "3              3            4                    8                   4.000   \n",
       "4              3            4                    3                   8.000   \n",
       "\n",
       "   Num_Credit_Inquiries  ... Outstanding_Debt  Credit_Utilization_Ratio  \\\n",
       "0                 4.000  ...          809.980                    26.823   \n",
       "1                 4.000  ...          809.980                    31.378   \n",
       "2                 4.000  ...          809.980                    24.797   \n",
       "3                 4.000  ...          809.980                    27.262   \n",
       "4                 4.000  ...          809.980                    22.538   \n",
       "\n",
       "   Payment_of_Min_Amount Total_EMI_per_month  Amount_invested_monthly  \\\n",
       "0                     No              49.575                   80.415   \n",
       "1                     No              49.575                  199.458   \n",
       "2                     No              49.575                   41.420   \n",
       "3                     No              49.575                   62.430   \n",
       "4                     No              49.575                  178.344   \n",
       "\n",
       "                  Payment_Behaviour Monthly_Balance  Credit_Score  \\\n",
       "0   High_spent_Small_value_payments         312.494             2   \n",
       "1    Low_spent_Small_value_payments         223.451             2   \n",
       "2  High_spent_Medium_value_payments         341.489             2   \n",
       "3    Low_spent_Small_value_payments         340.479             2   \n",
       "4    Low_spent_Small_value_payments         244.565             2   \n",
       "\n",
       "   Credit_History_Age_Months  Score_Category  \n",
       "0                        265            Good  \n",
       "1                        268            Good  \n",
       "2                        269            Good  \n",
       "3                        270            Good  \n",
       "4                        271            Good  \n",
       "\n",
       "[5 rows x 21 columns]"
      ]
     },
     "execution_count": 94,
     "metadata": {},
     "output_type": "execute_result"
    }
   ],
   "source": [
    "df = pd.read_csv('train_cleaned.csv')\n",
    "df.head()"
   ]
  },
  {
   "cell_type": "code",
   "execution_count": null,
   "metadata": {},
   "outputs": [],
   "source": []
  }
 ],
 "metadata": {
  "kernelspec": {
   "display_name": "Python [conda env:base] *",
   "language": "python",
   "name": "conda-base-py"
  },
  "language_info": {
   "codemirror_mode": {
    "name": "ipython",
    "version": 3
   },
   "file_extension": ".py",
   "mimetype": "text/x-python",
   "name": "python",
   "nbconvert_exporter": "python",
   "pygments_lexer": "ipython3",
   "version": "3.12.7"
  }
 },
 "nbformat": 4,
 "nbformat_minor": 4
}
